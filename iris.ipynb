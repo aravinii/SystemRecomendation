{
 "cells": [
  {
   "cell_type": "markdown",
   "metadata": {},
   "source": [
    "# Um estudo sobre Sistemas de Recomendação 🎥"
   ]
  },
  {
   "cell_type": "markdown",
   "metadata": {},
   "source": [
    "> \"O maior inimigo do conhecimento não é ignorância,\n",
    "> mas sim a ilusão de conhecimento.\"\n",
    "> -Stephen Hawking\n",
    "\n",
    "  \n",
    "## Objetivo\n",
    "\n",
    "O objetivo principal deste notebook é a construção de um guia técnico para desenvolvimento de Sistemas de Recomendação. Utiliza-se como referência prática os notebooks apresentados em [Film recommendation engine](https://www.kaggle.com/fabiendaniel/film-recommendation-engine), [Netflix Visualizations, Recommendation, EDA](https://www.kaggle.com/niharika41298/netflix-visualizations-recommendation-eda) e [A beginner's guide to Recommendation Systems](https://www.kaggle.com/arushikhokharr/a-beginner-s-guide-to-recommendation-systems), além é claro de referências teóricas como [A hybrid recommender system based-on link prediction for movie baskets analysis](https://journalofbigdata.springeropen.com/articles/10.1186/s40537-021-00422-0).\n",
    "\n",
    "O estudo será pautado em cima da base de dados [MovieLens 100k Dataset](https://www.kaggle.com/prajitdatta/movielens-100k-dataset), objeto que representa a coleta de 100,000 avaliações (que variam de 1 a 5) de 943 usuários sobre 1682 filmes do site MovieLens entre os anos de 97 e 98. Também está disponível as informações básicas de cada usuário na base, praticamente encontramos Gênero, Idade, Profissão e Endereço.\n",
    "\n",
    "O sistema funcionará a partir de uma função que poderá receber como parâmetro o ID de um usuário ou o ID de um filme, e retornará uma lista dos 5 filmes mais prováveis de serem de próximos da referência dada.\n",
    "\n",
    "Na prática, a função utilizará de alguns critérios técnicos para obter as recomendações, sendo elas:\n",
    "\n",
    "#### Abordagens Tradicionais\n",
    "\n",
    "- **Filtragem baseada em popularidade**: O mais simples dos algorítmos de recomendação e o mais impesssoal, utiliza as informações agregadas de consumo dos intens para indicar a recomendação. É o famoso \"O que está bombando na Netflix\".\n",
    "\n",
    "- **Filtragem baseada em conteúdo:** Sistemas que utilizam essa abordagem avaliam as propriedades descritivas dos itens e usuários, assumindo que um usuário vai gostar de itens parecidos com os que ele já gostou. Geralmente é utilizado quando não temos acesso as avaliações feitas por outros usuários aos itens.\n",
    "\n",
    "- **Filtragem Colaborativa:** Sistemas que utilizam esta abordagem assumem que um usuário deve gostar de itens escolhidos por usuários com gostos parecidos\n",
    "\n",
    "#### ✨Abordagens Contemporâneas ✨\n",
    "\n",
    "- **Filtragem híbrida com Link Prediction:** Um sistema que utiliza diversas técnicas de recomendação para tratar casos de cold-start, ou seja, quando os novos usuários que ainda não tenham visto muitos filmes na plataforma tendem a sofrer com os métodos anteriores.\n",
    "\n"
   ]
  },
  {
   "cell_type": "markdown",
   "metadata": {},
   "source": [
    " ## Luz, Câmera, Ação!"
   ]
  },
  {
   "cell_type": "code",
   "execution_count": 4,
   "metadata": {
    "jupyter": {
     "source_hidden": true
    }
   },
   "outputs": [
    {
     "data": {
      "text/html": [
       "\n",
       "        <iframe\n",
       "            width=\"550\"\n",
       "            height=\"400\"\n",
       "            src=\"https://cdn.substack.com/image/fetch/f_auto,q_auto:good,fl_progressive:steep/https%3A%2F%2Fbucketeer-e05bbc84-baa3-437e-9518-adb32be77984.s3.amazonaws.com%2Fpublic%2Fimages%2F22633874-cce7-4818-b156-9a36b7b614e2_522x360.gif\"\n",
       "            frameborder=\"0\"\n",
       "            allowfullscreen\n",
       "        ></iframe>\n",
       "        "
      ],
      "text/plain": [
       "<IPython.lib.display.IFrame at 0x20f15e0ea30>"
      ]
     },
     "execution_count": 4,
     "metadata": {},
     "output_type": "execute_result"
    }
   ],
   "source": [
    "#Este é um GIF daqueles carinhas que fecham um take do cinema para indicar que a ação esta começando a ser gravada, caso não abra no seu navegador :(\n",
    "from IPython.display import IFrame\n",
    "iframe_url = \"https://cdn.substack.com/image/fetch/f_auto,q_auto:good,fl_progressive:steep/https%3A%2F%2Fbucketeer-e05bbc84-baa3-437e-9518-adb32be77984.s3.amazonaws.com%2Fpublic%2Fimages%2F22633874-cce7-4818-b156-9a36b7b614e2_522x360.gif\"\n",
    "IFrame(src=iframe_url, width=550, height=400)"
   ]
  },
  {
   "cell_type": "markdown",
   "metadata": {},
   "source": [
    "  Este notebook está organizado da seguinte maneira:\n",
    " \n",
    " 1. **Bibliotecas Utilizadas**\n",
    " 2. **Preparação dos Dados**\n",
    " \n",
    "     - Leitura\n",
    "     - Nomeação das colunas e limpeza de colunas sem função\n",
    "     - Adaptação dos tipos de dados\n",
    "     - Tratativa de valores faltantes\n",
    "     - Obtenção do ESTADO dos EUA ao qual o usuário pertence\n",
    "     \n",
    " \n",
    " 3. **Análise Exploratória dos Dados**\n",
    " \n",
    "     - Histogramas e Boxplots da quantidade de avaliações de cada filme\n",
    "     - Histogramas e Boxplots da avaliação média recebida por cada filme\n",
    "     - Top 10 filmes por quantidade de avaliações\n",
    "     - Top 10 filmes por avaliação média recebida\n",
    "     - Scatterplot da correlação entre avaliação média recebida por cada filme vs a quantidade de avaliações recebidas por cada filme\n",
    "     - Barplot com os gêneros que mais receberam avaliações\n",
    "     - Lollipopplot da quantidade de filmes lançados por ano\n",
    "     - Barplot da quantidade de avaliações por gênero\n",
    "     - Barplot da quantidade de avaliações por estado (EUA)\n",
    "     - Barplot da quantidade de avaliações por profissão\n",
    "     \n",
    "     \n",
    " 4. **Sistema de Recomendação**\n",
    " \n",
    "     - Popularidade\n",
    "     - Popularidade nos últimos tempos\n",
    "     - Baseados em conteúdo (usuários)\n",
    "     - Filtragem colaborativa\n",
    "     \n",
    "     \n",
    " 5. **Interpretação dos Resultados**"
   ]
  },
  {
   "cell_type": "markdown",
   "metadata": {},
   "source": [
    "   "
   ]
  },
  {
   "cell_type": "markdown",
   "metadata": {},
   "source": [
    "    "
   ]
  },
  {
   "cell_type": "markdown",
   "metadata": {},
   "source": [
    "      "
   ]
  },
  {
   "cell_type": "markdown",
   "metadata": {},
   "source": [
    " ## 1. Bibliotecas Utilizadas\n",
    " \n",
    " - Pandas\n",
    " - Datetime\n",
    " - Matplotlib\n",
    " - Seaborn\n",
    " - Datetime\n",
    " - Pyzipcode\n",
    " - Warnings"
   ]
  },
  {
   "cell_type": "code",
   "execution_count": 5,
   "metadata": {},
   "outputs": [
    {
     "name": "stdout",
     "output_type": "stream",
     "text": [
      "Requirement already satisfied: pyzipcode in c:\\users\\viniciusdeoliveiraar\\anaconda3\\lib\\site-packages (3.0.1)\n"
     ]
    }
   ],
   "source": [
    "!pip install pyzipcode"
   ]
  },
  {
   "cell_type": "code",
   "execution_count": 6,
   "metadata": {},
   "outputs": [],
   "source": [
    "import pandas as pd\n",
    "from datetime import datetime\n",
    "import matplotlib.pyplot as plt\n",
    "import seaborn as sns\n",
    "from datetime import datetime, timedelta\n",
    "from pyzipcode import ZipCodeDatabase\n",
    "import warnings\n",
    "\n",
    "warnings.filterwarnings('ignore')\n",
    "sns.set_style(\"darkgrid\")\n",
    "%matplotlib inline"
   ]
  },
  {
   "cell_type": "markdown",
   "metadata": {},
   "source": [
    "   "
   ]
  },
  {
   "cell_type": "markdown",
   "metadata": {},
   "source": [
    "    "
   ]
  },
  {
   "cell_type": "markdown",
   "metadata": {},
   "source": [
    "      "
   ]
  },
  {
   "cell_type": "markdown",
   "metadata": {},
   "source": [
    "## 2. Preparação dos Dados"
   ]
  },
  {
   "cell_type": "markdown",
   "metadata": {},
   "source": [
    "### Base de interações"
   ]
  },
  {
   "cell_type": "code",
   "execution_count": 7,
   "metadata": {},
   "outputs": [
    {
     "name": "stdout",
     "output_type": "stream",
     "text": [
      "\n",
      "Quantidade de linhas na base de dados: 100000 \n",
      "Quantidade de colunas na base de dados: 4 \n",
      "\n"
     ]
    },
    {
     "data": {
      "text/html": [
       "<div>\n",
       "<style scoped>\n",
       "    .dataframe tbody tr th:only-of-type {\n",
       "        vertical-align: middle;\n",
       "    }\n",
       "\n",
       "    .dataframe tbody tr th {\n",
       "        vertical-align: top;\n",
       "    }\n",
       "\n",
       "    .dataframe thead th {\n",
       "        text-align: right;\n",
       "    }\n",
       "</style>\n",
       "<table border=\"1\" class=\"dataframe\">\n",
       "  <thead>\n",
       "    <tr style=\"text-align: right;\">\n",
       "      <th></th>\n",
       "      <th>id_usuario</th>\n",
       "      <th>id_filme</th>\n",
       "      <th>avaliacao</th>\n",
       "      <th>data_avaliacao</th>\n",
       "    </tr>\n",
       "  </thead>\n",
       "  <tbody>\n",
       "    <tr>\n",
       "      <th>0</th>\n",
       "      <td>196</td>\n",
       "      <td>242</td>\n",
       "      <td>3</td>\n",
       "      <td>1997-12-04</td>\n",
       "    </tr>\n",
       "    <tr>\n",
       "      <th>1</th>\n",
       "      <td>186</td>\n",
       "      <td>302</td>\n",
       "      <td>3</td>\n",
       "      <td>1998-04-04</td>\n",
       "    </tr>\n",
       "    <tr>\n",
       "      <th>2</th>\n",
       "      <td>22</td>\n",
       "      <td>377</td>\n",
       "      <td>1</td>\n",
       "      <td>1997-11-07</td>\n",
       "    </tr>\n",
       "    <tr>\n",
       "      <th>3</th>\n",
       "      <td>244</td>\n",
       "      <td>51</td>\n",
       "      <td>2</td>\n",
       "      <td>1997-11-27</td>\n",
       "    </tr>\n",
       "    <tr>\n",
       "      <th>4</th>\n",
       "      <td>166</td>\n",
       "      <td>346</td>\n",
       "      <td>1</td>\n",
       "      <td>1998-02-02</td>\n",
       "    </tr>\n",
       "  </tbody>\n",
       "</table>\n",
       "</div>"
      ],
      "text/plain": [
       "  id_usuario id_filme  avaliacao data_avaliacao\n",
       "0        196      242          3     1997-12-04\n",
       "1        186      302          3     1998-04-04\n",
       "2         22      377          1     1997-11-07\n",
       "3        244       51          2     1997-11-27\n",
       "4        166      346          1     1998-02-02"
      ]
     },
     "execution_count": 7,
     "metadata": {},
     "output_type": "execute_result"
    }
   ],
   "source": [
    "#Leitura dos dados de interação via pandas, arquivo é um tsv (texto separado por tab)\n",
    "nomes_das_colunas=['id_usuario','id_filme','avaliacao','data_avaliacao']\n",
    "df=pd.read_csv(\"archive/ml-100k/u.data\",sep=\"\\t\",names=nomes_das_colunas)\n",
    "\n",
    "#Conversão do formato data da avaliação que estava em Unix\n",
    "data_inicio_unix = datetime(1970, 1, 1)\n",
    "df['data_avaliacao'] = df.data_avaliacao.apply(lambda x: data_inicio_unix + timedelta(seconds=x)).dt.date\n",
    "\n",
    "#Colocar as colunas de ID como texto\n",
    "df['id_usuario'] = df['id_usuario'].astype(str)\n",
    "df['id_filme'] = df['id_filme'].astype(str)\n",
    "\n",
    "print('\\nQuantidade de linhas na base de dados:', df.shape[0],'\\nQuantidade de colunas na base de dados:', df.shape[1],'\\n')\n",
    "df.head()"
   ]
  },
  {
   "cell_type": "markdown",
   "metadata": {},
   "source": [
    "Verificando a existência de valores faltantes"
   ]
  },
  {
   "cell_type": "code",
   "execution_count": 8,
   "metadata": {},
   "outputs": [
    {
     "data": {
      "text/plain": [
       "id_usuario        100000\n",
       "id_filme          100000\n",
       "avaliacao         100000\n",
       "data_avaliacao    100000\n",
       "dtype: int64"
      ]
     },
     "execution_count": 8,
     "metadata": {},
     "output_type": "execute_result"
    }
   ],
   "source": [
    "#Nenhum foi encontrado\n",
    "df.count()"
   ]
  },
  {
   "cell_type": "markdown",
   "metadata": {},
   "source": [
    "### Base com dados sobre os filmes"
   ]
  },
  {
   "cell_type": "code",
   "execution_count": 9,
   "metadata": {},
   "outputs": [
    {
     "name": "stdout",
     "output_type": "stream",
     "text": [
      "\n",
      "Quantidade de linhas na base de dados: 1682 \n",
      "Quantidade de colunas na base de dados: 22 \n",
      "\n"
     ]
    },
    {
     "data": {
      "text/html": [
       "<div>\n",
       "<style scoped>\n",
       "    .dataframe tbody tr th:only-of-type {\n",
       "        vertical-align: middle;\n",
       "    }\n",
       "\n",
       "    .dataframe tbody tr th {\n",
       "        vertical-align: top;\n",
       "    }\n",
       "\n",
       "    .dataframe thead th {\n",
       "        text-align: right;\n",
       "    }\n",
       "</style>\n",
       "<table border=\"1\" class=\"dataframe\">\n",
       "  <thead>\n",
       "    <tr style=\"text-align: right;\">\n",
       "      <th></th>\n",
       "      <th>id_filme</th>\n",
       "      <th>nome_filme</th>\n",
       "      <th>data_lancamento</th>\n",
       "      <th>tema_desconhecido</th>\n",
       "      <th>tema_acao</th>\n",
       "      <th>tema_aventura</th>\n",
       "      <th>tema_animacao</th>\n",
       "      <th>tema_criancas</th>\n",
       "      <th>tema_comedia</th>\n",
       "      <th>tema_crime</th>\n",
       "      <th>...</th>\n",
       "      <th>tema_fantasia</th>\n",
       "      <th>tema_preto_branco</th>\n",
       "      <th>tema_horror</th>\n",
       "      <th>tema_musical</th>\n",
       "      <th>tema_misterio</th>\n",
       "      <th>tema_romance</th>\n",
       "      <th>tema_fic_cientifica</th>\n",
       "      <th>tema_suspense</th>\n",
       "      <th>tema_guerra</th>\n",
       "      <th>tema_velho_oeste</th>\n",
       "    </tr>\n",
       "  </thead>\n",
       "  <tbody>\n",
       "    <tr>\n",
       "      <th>0</th>\n",
       "      <td>1</td>\n",
       "      <td>Toy Story (1995)</td>\n",
       "      <td>01-Jan-1995</td>\n",
       "      <td>0</td>\n",
       "      <td>0</td>\n",
       "      <td>0</td>\n",
       "      <td>1</td>\n",
       "      <td>1</td>\n",
       "      <td>1</td>\n",
       "      <td>0</td>\n",
       "      <td>...</td>\n",
       "      <td>0</td>\n",
       "      <td>0</td>\n",
       "      <td>0</td>\n",
       "      <td>0</td>\n",
       "      <td>0</td>\n",
       "      <td>0</td>\n",
       "      <td>0</td>\n",
       "      <td>0</td>\n",
       "      <td>0</td>\n",
       "      <td>0</td>\n",
       "    </tr>\n",
       "    <tr>\n",
       "      <th>1</th>\n",
       "      <td>2</td>\n",
       "      <td>GoldenEye (1995)</td>\n",
       "      <td>01-Jan-1995</td>\n",
       "      <td>0</td>\n",
       "      <td>1</td>\n",
       "      <td>1</td>\n",
       "      <td>0</td>\n",
       "      <td>0</td>\n",
       "      <td>0</td>\n",
       "      <td>0</td>\n",
       "      <td>...</td>\n",
       "      <td>0</td>\n",
       "      <td>0</td>\n",
       "      <td>0</td>\n",
       "      <td>0</td>\n",
       "      <td>0</td>\n",
       "      <td>0</td>\n",
       "      <td>0</td>\n",
       "      <td>1</td>\n",
       "      <td>0</td>\n",
       "      <td>0</td>\n",
       "    </tr>\n",
       "    <tr>\n",
       "      <th>2</th>\n",
       "      <td>3</td>\n",
       "      <td>Four Rooms (1995)</td>\n",
       "      <td>01-Jan-1995</td>\n",
       "      <td>0</td>\n",
       "      <td>0</td>\n",
       "      <td>0</td>\n",
       "      <td>0</td>\n",
       "      <td>0</td>\n",
       "      <td>0</td>\n",
       "      <td>0</td>\n",
       "      <td>...</td>\n",
       "      <td>0</td>\n",
       "      <td>0</td>\n",
       "      <td>0</td>\n",
       "      <td>0</td>\n",
       "      <td>0</td>\n",
       "      <td>0</td>\n",
       "      <td>0</td>\n",
       "      <td>1</td>\n",
       "      <td>0</td>\n",
       "      <td>0</td>\n",
       "    </tr>\n",
       "    <tr>\n",
       "      <th>3</th>\n",
       "      <td>4</td>\n",
       "      <td>Get Shorty (1995)</td>\n",
       "      <td>01-Jan-1995</td>\n",
       "      <td>0</td>\n",
       "      <td>1</td>\n",
       "      <td>0</td>\n",
       "      <td>0</td>\n",
       "      <td>0</td>\n",
       "      <td>1</td>\n",
       "      <td>0</td>\n",
       "      <td>...</td>\n",
       "      <td>0</td>\n",
       "      <td>0</td>\n",
       "      <td>0</td>\n",
       "      <td>0</td>\n",
       "      <td>0</td>\n",
       "      <td>0</td>\n",
       "      <td>0</td>\n",
       "      <td>0</td>\n",
       "      <td>0</td>\n",
       "      <td>0</td>\n",
       "    </tr>\n",
       "    <tr>\n",
       "      <th>4</th>\n",
       "      <td>5</td>\n",
       "      <td>Copycat (1995)</td>\n",
       "      <td>01-Jan-1995</td>\n",
       "      <td>0</td>\n",
       "      <td>0</td>\n",
       "      <td>0</td>\n",
       "      <td>0</td>\n",
       "      <td>0</td>\n",
       "      <td>0</td>\n",
       "      <td>1</td>\n",
       "      <td>...</td>\n",
       "      <td>0</td>\n",
       "      <td>0</td>\n",
       "      <td>0</td>\n",
       "      <td>0</td>\n",
       "      <td>0</td>\n",
       "      <td>0</td>\n",
       "      <td>0</td>\n",
       "      <td>1</td>\n",
       "      <td>0</td>\n",
       "      <td>0</td>\n",
       "    </tr>\n",
       "  </tbody>\n",
       "</table>\n",
       "<p>5 rows × 22 columns</p>\n",
       "</div>"
      ],
      "text/plain": [
       "  id_filme         nome_filme data_lancamento  tema_desconhecido  tema_acao  \\\n",
       "0        1   Toy Story (1995)     01-Jan-1995                  0          0   \n",
       "1        2   GoldenEye (1995)     01-Jan-1995                  0          1   \n",
       "2        3  Four Rooms (1995)     01-Jan-1995                  0          0   \n",
       "3        4  Get Shorty (1995)     01-Jan-1995                  0          1   \n",
       "4        5     Copycat (1995)     01-Jan-1995                  0          0   \n",
       "\n",
       "   tema_aventura  tema_animacao  tema_criancas  tema_comedia  tema_crime  ...  \\\n",
       "0              0              1              1             1           0  ...   \n",
       "1              1              0              0             0           0  ...   \n",
       "2              0              0              0             0           0  ...   \n",
       "3              0              0              0             1           0  ...   \n",
       "4              0              0              0             0           1  ...   \n",
       "\n",
       "   tema_fantasia  tema_preto_branco  tema_horror  tema_musical  tema_misterio  \\\n",
       "0              0                  0            0             0              0   \n",
       "1              0                  0            0             0              0   \n",
       "2              0                  0            0             0              0   \n",
       "3              0                  0            0             0              0   \n",
       "4              0                  0            0             0              0   \n",
       "\n",
       "   tema_romance  tema_fic_cientifica  tema_suspense  tema_guerra  \\\n",
       "0             0                    0              0            0   \n",
       "1             0                    0              1            0   \n",
       "2             0                    0              1            0   \n",
       "3             0                    0              0            0   \n",
       "4             0                    0              1            0   \n",
       "\n",
       "   tema_velho_oeste  \n",
       "0                 0  \n",
       "1                 0  \n",
       "2                 0  \n",
       "3                 0  \n",
       "4                 0  \n",
       "\n",
       "[5 rows x 22 columns]"
      ]
     },
     "execution_count": 9,
     "metadata": {},
     "output_type": "execute_result"
    }
   ],
   "source": [
    "#Leitura dos metadados dos filmes via pandas, arquivo agora é separado por |\n",
    "nomes_das_colunas=['id_filme','nome_filme','data_lancamento','data_lancamento_dvd','IMDb_url', 'tema_desconhecido', 'tema_acao', 'tema_aventura','tema_animacao','tema_criancas','tema_comedia',\n",
    "                   'tema_crime','tema_documentario', 'tema_drama', 'tema_fantasia','tema_preto_branco','tema_horror','tema_musical','tema_misterio', 'tema_romance','tema_fic_cientifica', \n",
    "                   'tema_suspense', 'tema_guerra','tema_velho_oeste']\n",
    "df_item=pd.read_csv(\"archive/ml-100k/u.item\",sep=\"\\|\",names=nomes_das_colunas, engine='python')\n",
    "\n",
    "#Deletamos alguns colunas que não tinham informações relevantes para a analise\n",
    "df_item.drop(columns=['data_lancamento_dvd','IMDb_url'], inplace=True)\n",
    "\n",
    "#Colocar a coluna de ID como texto\n",
    "df_item['id_filme'] = df_item['id_filme'].astype(str)\n",
    "\n",
    "print('\\nQuantidade de linhas na base de dados:', df_item.shape[0],'\\nQuantidade de colunas na base de dados:', df_item.shape[1],'\\n')\n",
    "df_item.head()"
   ]
  },
  {
   "cell_type": "markdown",
   "metadata": {},
   "source": [
    "Verificando a existência de valores faltantes:"
   ]
  },
  {
   "cell_type": "code",
   "execution_count": 10,
   "metadata": {},
   "outputs": [
    {
     "data": {
      "text/plain": [
       "id_filme               1682\n",
       "nome_filme             1682\n",
       "data_lancamento        1681\n",
       "tema_desconhecido      1682\n",
       "tema_acao              1682\n",
       "tema_aventura          1682\n",
       "tema_animacao          1682\n",
       "tema_criancas          1682\n",
       "tema_comedia           1682\n",
       "tema_crime             1682\n",
       "tema_documentario      1682\n",
       "tema_drama             1682\n",
       "tema_fantasia          1682\n",
       "tema_preto_branco      1682\n",
       "tema_horror            1682\n",
       "tema_musical           1682\n",
       "tema_misterio          1682\n",
       "tema_romance           1682\n",
       "tema_fic_cientifica    1682\n",
       "tema_suspense          1682\n",
       "tema_guerra            1682\n",
       "tema_velho_oeste       1682\n",
       "dtype: int64"
      ]
     },
     "execution_count": 10,
     "metadata": {},
     "output_type": "execute_result"
    }
   ],
   "source": [
    "df_item.count()"
   ]
  },
  {
   "cell_type": "markdown",
   "metadata": {},
   "source": [
    "Verificamos que um filme na base de dados possui tema desconhecido, sem nome e sem data de lançamento. Provavelmente um erro.\n",
    "\n",
    "O id do filme é o 267."
   ]
  },
  {
   "cell_type": "code",
   "execution_count": 11,
   "metadata": {},
   "outputs": [
    {
     "data": {
      "text/html": [
       "<div>\n",
       "<style scoped>\n",
       "    .dataframe tbody tr th:only-of-type {\n",
       "        vertical-align: middle;\n",
       "    }\n",
       "\n",
       "    .dataframe tbody tr th {\n",
       "        vertical-align: top;\n",
       "    }\n",
       "\n",
       "    .dataframe thead th {\n",
       "        text-align: right;\n",
       "    }\n",
       "</style>\n",
       "<table border=\"1\" class=\"dataframe\">\n",
       "  <thead>\n",
       "    <tr style=\"text-align: right;\">\n",
       "      <th></th>\n",
       "      <th>id_filme</th>\n",
       "      <th>nome_filme</th>\n",
       "      <th>data_lancamento</th>\n",
       "      <th>tema_desconhecido</th>\n",
       "      <th>tema_acao</th>\n",
       "      <th>tema_aventura</th>\n",
       "      <th>tema_animacao</th>\n",
       "      <th>tema_criancas</th>\n",
       "      <th>tema_comedia</th>\n",
       "      <th>tema_crime</th>\n",
       "      <th>...</th>\n",
       "      <th>tema_fantasia</th>\n",
       "      <th>tema_preto_branco</th>\n",
       "      <th>tema_horror</th>\n",
       "      <th>tema_musical</th>\n",
       "      <th>tema_misterio</th>\n",
       "      <th>tema_romance</th>\n",
       "      <th>tema_fic_cientifica</th>\n",
       "      <th>tema_suspense</th>\n",
       "      <th>tema_guerra</th>\n",
       "      <th>tema_velho_oeste</th>\n",
       "    </tr>\n",
       "  </thead>\n",
       "  <tbody>\n",
       "    <tr>\n",
       "      <th>266</th>\n",
       "      <td>267</td>\n",
       "      <td>unknown</td>\n",
       "      <td>NaN</td>\n",
       "      <td>1</td>\n",
       "      <td>0</td>\n",
       "      <td>0</td>\n",
       "      <td>0</td>\n",
       "      <td>0</td>\n",
       "      <td>0</td>\n",
       "      <td>0</td>\n",
       "      <td>...</td>\n",
       "      <td>0</td>\n",
       "      <td>0</td>\n",
       "      <td>0</td>\n",
       "      <td>0</td>\n",
       "      <td>0</td>\n",
       "      <td>0</td>\n",
       "      <td>0</td>\n",
       "      <td>0</td>\n",
       "      <td>0</td>\n",
       "      <td>0</td>\n",
       "    </tr>\n",
       "  </tbody>\n",
       "</table>\n",
       "<p>1 rows × 22 columns</p>\n",
       "</div>"
      ],
      "text/plain": [
       "    id_filme nome_filme data_lancamento  tema_desconhecido  tema_acao  \\\n",
       "266      267    unknown             NaN                  1          0   \n",
       "\n",
       "     tema_aventura  tema_animacao  tema_criancas  tema_comedia  tema_crime  \\\n",
       "266              0              0              0             0           0   \n",
       "\n",
       "     ...  tema_fantasia  tema_preto_branco  tema_horror  tema_musical  \\\n",
       "266  ...              0                  0            0             0   \n",
       "\n",
       "     tema_misterio  tema_romance  tema_fic_cientifica  tema_suspense  \\\n",
       "266              0             0                    0              0   \n",
       "\n",
       "     tema_guerra  tema_velho_oeste  \n",
       "266            0                 0  \n",
       "\n",
       "[1 rows x 22 columns]"
      ]
     },
     "execution_count": 11,
     "metadata": {},
     "output_type": "execute_result"
    }
   ],
   "source": [
    "df_item[df_item['data_lancamento'].isna()]"
   ]
  },
  {
   "cell_type": "markdown",
   "metadata": {},
   "source": [
    "Vamos eliminar a unica com valores faltantes:"
   ]
  },
  {
   "cell_type": "code",
   "execution_count": 12,
   "metadata": {},
   "outputs": [],
   "source": [
    "df_item.drop(df_item[df_item['data_lancamento'].isna()].index, inplace=True)"
   ]
  },
  {
   "cell_type": "markdown",
   "metadata": {},
   "source": [
    "Precisamos eliminar as linhas que também contenham avaliação para este filme desconhecido na base de interações."
   ]
  },
  {
   "cell_type": "code",
   "execution_count": 13,
   "metadata": {},
   "outputs": [
    {
     "data": {
      "text/html": [
       "<div>\n",
       "<style scoped>\n",
       "    .dataframe tbody tr th:only-of-type {\n",
       "        vertical-align: middle;\n",
       "    }\n",
       "\n",
       "    .dataframe tbody tr th {\n",
       "        vertical-align: top;\n",
       "    }\n",
       "\n",
       "    .dataframe thead th {\n",
       "        text-align: right;\n",
       "    }\n",
       "</style>\n",
       "<table border=\"1\" class=\"dataframe\">\n",
       "  <thead>\n",
       "    <tr style=\"text-align: right;\">\n",
       "      <th></th>\n",
       "      <th>id_usuario</th>\n",
       "      <th>id_filme</th>\n",
       "      <th>avaliacao</th>\n",
       "      <th>data_avaliacao</th>\n",
       "    </tr>\n",
       "  </thead>\n",
       "  <tbody>\n",
       "  </tbody>\n",
       "</table>\n",
       "</div>"
      ],
      "text/plain": [
       "Empty DataFrame\n",
       "Columns: [id_usuario, id_filme, avaliacao, data_avaliacao]\n",
       "Index: []"
      ]
     },
     "execution_count": 13,
     "metadata": {},
     "output_type": "execute_result"
    }
   ],
   "source": [
    "df[df['id_filme']==267]"
   ]
  },
  {
   "cell_type": "markdown",
   "metadata": {},
   "source": [
    "Vamos eliminar as linhas com avaliacoes desse filme"
   ]
  },
  {
   "cell_type": "code",
   "execution_count": 14,
   "metadata": {},
   "outputs": [],
   "source": [
    "df.drop(df[df['id_filme']==267].index, inplace=True)"
   ]
  },
  {
   "cell_type": "markdown",
   "metadata": {},
   "source": [
    "### Base com dados sobre os usuários"
   ]
  },
  {
   "cell_type": "code",
   "execution_count": 15,
   "metadata": {},
   "outputs": [
    {
     "name": "stdout",
     "output_type": "stream",
     "text": [
      "\n",
      "Quantidade de linhas na base de dados: 943 \n",
      "Quantidade de colunas na base de dados: 5 \n",
      "\n"
     ]
    },
    {
     "data": {
      "text/html": [
       "<div>\n",
       "<style scoped>\n",
       "    .dataframe tbody tr th:only-of-type {\n",
       "        vertical-align: middle;\n",
       "    }\n",
       "\n",
       "    .dataframe tbody tr th {\n",
       "        vertical-align: top;\n",
       "    }\n",
       "\n",
       "    .dataframe thead th {\n",
       "        text-align: right;\n",
       "    }\n",
       "</style>\n",
       "<table border=\"1\" class=\"dataframe\">\n",
       "  <thead>\n",
       "    <tr style=\"text-align: right;\">\n",
       "      <th></th>\n",
       "      <th>id_usuario</th>\n",
       "      <th>idade</th>\n",
       "      <th>sexo</th>\n",
       "      <th>profissao</th>\n",
       "      <th>cep</th>\n",
       "    </tr>\n",
       "  </thead>\n",
       "  <tbody>\n",
       "    <tr>\n",
       "      <th>0</th>\n",
       "      <td>1</td>\n",
       "      <td>24</td>\n",
       "      <td>M</td>\n",
       "      <td>technician</td>\n",
       "      <td>85711</td>\n",
       "    </tr>\n",
       "    <tr>\n",
       "      <th>1</th>\n",
       "      <td>2</td>\n",
       "      <td>53</td>\n",
       "      <td>F</td>\n",
       "      <td>other</td>\n",
       "      <td>94043</td>\n",
       "    </tr>\n",
       "    <tr>\n",
       "      <th>2</th>\n",
       "      <td>3</td>\n",
       "      <td>23</td>\n",
       "      <td>M</td>\n",
       "      <td>writer</td>\n",
       "      <td>32067</td>\n",
       "    </tr>\n",
       "    <tr>\n",
       "      <th>3</th>\n",
       "      <td>4</td>\n",
       "      <td>24</td>\n",
       "      <td>M</td>\n",
       "      <td>technician</td>\n",
       "      <td>43537</td>\n",
       "    </tr>\n",
       "    <tr>\n",
       "      <th>4</th>\n",
       "      <td>5</td>\n",
       "      <td>33</td>\n",
       "      <td>F</td>\n",
       "      <td>other</td>\n",
       "      <td>15213</td>\n",
       "    </tr>\n",
       "  </tbody>\n",
       "</table>\n",
       "</div>"
      ],
      "text/plain": [
       "  id_usuario  idade sexo   profissao    cep\n",
       "0          1     24    M  technician  85711\n",
       "1          2     53    F       other  94043\n",
       "2          3     23    M      writer  32067\n",
       "3          4     24    M  technician  43537\n",
       "4          5     33    F       other  15213"
      ]
     },
     "execution_count": 15,
     "metadata": {},
     "output_type": "execute_result"
    }
   ],
   "source": [
    "#Leitura dos metadados de usuarios via pandas, arquivo é separado por |\n",
    "nomes_das_colunas=['id_usuario','idade','sexo','profissao','cep']\n",
    "df_usuarios=pd.read_csv(\"archive/ml-100k/u.user\",sep=\"\\|\",names=nomes_das_colunas, engine='python')\n",
    "\n",
    "#Colocar a coluna de ID como texto\n",
    "df_usuarios['id_usuario'] = df_usuarios['id_usuario'].astype(str)\n",
    "\n",
    "print('\\nQuantidade de linhas na base de dados:', df_usuarios.shape[0],'\\nQuantidade de colunas na base de dados:', df_usuarios.shape[1],'\\n')\n",
    "df_usuarios.head()"
   ]
  },
  {
   "cell_type": "markdown",
   "metadata": {},
   "source": [
    "Verificando a existência de valores faltantes"
   ]
  },
  {
   "cell_type": "code",
   "execution_count": 16,
   "metadata": {},
   "outputs": [
    {
     "data": {
      "text/plain": [
       "id_usuario    943\n",
       "idade         943\n",
       "sexo          943\n",
       "profissao     943\n",
       "cep           943\n",
       "dtype: int64"
      ]
     },
     "execution_count": 16,
     "metadata": {},
     "output_type": "execute_result"
    }
   ],
   "source": [
    "#Nenhum foi encontrado\n",
    "df_usuarios.count()"
   ]
  },
  {
   "cell_type": "markdown",
   "metadata": {},
   "source": [
    "Substituição do campo cep (zip code no USA) pelo estado ao qual ao qual o usuario de fato pertence.\n",
    "\n",
    "Assumimos que os zip_codes nao encontrados pela biblioteca são de fora dos EUA."
   ]
  },
  {
   "cell_type": "code",
   "execution_count": 17,
   "metadata": {},
   "outputs": [],
   "source": [
    "zcdb = ZipCodeDatabase()\n",
    "lista_auxiliar = []\n",
    "for zip_code in df_usuarios['cep'].values:\n",
    "    try:\n",
    "        zipcode = zcdb[int(zip_code)]\n",
    "        lista_auxiliar.append(zipcode.state)\n",
    "    except:\n",
    "        lista_auxiliar.append('OUT')\n",
    "df_usuarios['estado_usa'] = lista_auxiliar\n",
    "\n",
    "#Deletamos a coluna do CEP porque não precisaremos mais dela\n",
    "df_usuarios.drop(columns=['cep'], inplace=True)"
   ]
  },
  {
   "cell_type": "markdown",
   "metadata": {},
   "source": [
    "   "
   ]
  },
  {
   "cell_type": "markdown",
   "metadata": {},
   "source": [
    "    "
   ]
  },
  {
   "cell_type": "markdown",
   "metadata": {},
   "source": [
    "      "
   ]
  },
  {
   "cell_type": "markdown",
   "metadata": {},
   "source": [
    "## 3. Análise Exploratória dos Dados"
   ]
  },
  {
   "cell_type": "markdown",
   "metadata": {},
   "source": [
    "Preparativos prontos, vamos para algumas análises rápidas sobre os dados"
   ]
  },
  {
   "cell_type": "code",
   "execution_count": 18,
   "metadata": {
    "jupyter": {
     "source_hidden": true
    }
   },
   "outputs": [
    {
     "data": {
      "text/html": [
       "\n",
       "        <iframe\n",
       "            width=\"500\"\n",
       "            height=\"270\"\n",
       "            src=\"https://j.gifs.com/jRglGW.gif\"\n",
       "            frameborder=\"0\"\n",
       "            allowfullscreen\n",
       "        ></iframe>\n",
       "        "
      ],
      "text/plain": [
       "<IPython.lib.display.IFrame at 0x20f1a3c62b0>"
      ]
     },
     "execution_count": 18,
     "metadata": {},
     "output_type": "execute_result"
    }
   ],
   "source": [
    "#Este é um GIF da largada da formula1, caso não abra no seu navegador :(\n",
    "iframe_url = \"https://j.gifs.com/jRglGW.gif\"\n",
    "IFrame(src=iframe_url, width=500, height=270)"
   ]
  },
  {
   "cell_type": "markdown",
   "metadata": {},
   "source": [
    "#### Histrograma da quantidade de avaliações"
   ]
  },
  {
   "cell_type": "markdown",
   "metadata": {},
   "source": [
    "Criando um dataframe temporário para analisar a distribuição das avaliações e suas quantidades"
   ]
  },
  {
   "cell_type": "code",
   "execution_count": 19,
   "metadata": {},
   "outputs": [],
   "source": [
    "df_agrupado = df[['id_filme','avaliacao']].groupby(by='id_filme').agg(['count','mean'])['avaliacao'].reset_index()"
   ]
  },
  {
   "cell_type": "code",
   "execution_count": 20,
   "metadata": {
    "jupyter": {
     "source_hidden": true
    }
   },
   "outputs": [
    {
     "data": {
      "image/png": "[encoded data removed]",
      "text/plain": [
       "<Figure size 864x432 with 1 Axes>"
      ]
     },
     "metadata": {
      "needs_background": "light"
     },
     "output_type": "display_data"
    }
   ],
   "source": [
    "plt.figure(figsize=(12,6))\n",
    "sns.histplot(df_agrupado['count'], bins=20)\n",
    "plt.title('Histograma da distribuição da quantidade de avaliações', fontsize=18)\n",
    "plt.xlabel('Quantidade de avaliações recebidas (bin=20)', fontsize=15)\n",
    "plt.ylabel('Quantidade de filmes que receberam essas avaliações', fontsize=15)\n",
    "plt.show()"
   ]
  },
  {
   "cell_type": "markdown",
   "metadata": {},
   "source": [
    "Este gráfico é interessante, mostra a distribuição da quantidade de avaliações recebidas pelos filmes. A leitura é simples, no eixo X temos a quantidade de avaliações recebidas pelo filme, separadas por grupos de 20. Já no eixo Y temos a quantidade de filmes que receberam essa quantidade de avaliações mencionada no eixo X. Em outras palavras, temos que mais de 800 filmes receberam até 20 avaliações. Isso demonstra a assimetria a direita na distribuição, ou seja, muitos filmes possuem poucas avaliações a poucos filmes recebem muitas avaliações."
   ]
  },
  {
   "cell_type": "markdown",
   "metadata": {},
   "source": [
    "#### Boxplot da quantidade de avaliações"
   ]
  },
  {
   "cell_type": "markdown",
   "metadata": {},
   "source": [
    "Isso pode também ser confirmado pelo gráfico de boxplot, onde podemos notar que a linha preta no meio da pilha (mediana da quantidade de avaliações) está mais perto da primeira linha horizontal (1º quartil), e alguns outros outliers podem ser encontrados na parte superior (pontos pretos)."
   ]
  },
  {
   "cell_type": "code",
   "execution_count": 21,
   "metadata": {},
   "outputs": [
    {
     "data": {
      "image/png": "[encoded data removed]",
      "text/plain": [
       "<Figure size 576x432 with 1 Axes>"
      ]
     },
     "metadata": {
      "needs_background": "light"
     },
     "output_type": "display_data"
    }
   ],
   "source": [
    "plt.figure(figsize=(8,6))\n",
    "sns.boxplot(y = 'count', data = df_agrupado)\n",
    "plt.title('Boxplot da distribuição da quantidade de avaliações', fontsize=18)\n",
    "plt.ylabel('Quantidade de avaliações recebidas', fontsize=15)\n",
    "plt.show()"
   ]
  },
  {
   "cell_type": "markdown",
   "metadata": {},
   "source": [
    "#### Histrograma da média de avaliações"
   ]
  },
  {
   "cell_type": "markdown",
   "metadata": {},
   "source": [
    "Da mesma maneira pode ser interessante analisar a média das avaliações dadas pelos usuários, então:"
   ]
  },
  {
   "cell_type": "code",
   "execution_count": 22,
   "metadata": {
    "jupyter": {
     "source_hidden": true
    }
   },
   "outputs": [
    {
     "data": {
      "image/png": "[encoded data removed]",
      "text/plain": [
       "<Figure size 864x432 with 1 Axes>"
      ]
     },
     "metadata": {
      "needs_background": "light"
     },
     "output_type": "display_data"
    }
   ],
   "source": [
    "plt.figure(figsize=(12,6))\n",
    "sns.histplot(df_agrupado['mean'], bins=20, kde=True, color='red')\n",
    "plt.title('Histograma da distribuição da média das avaliações por filme', fontsize=18)\n",
    "plt.ylabel('Quantidade de filmes que receberam essa média', fontsize=15)\n",
    "plt.xlabel('Média das avaliações recebidas', fontsize=15)\n",
    "plt.show()"
   ]
  },
  {
   "cell_type": "markdown",
   "metadata": {},
   "source": [
    "#### Boxplot da média de avaliações"
   ]
  },
  {
   "cell_type": "markdown",
   "metadata": {},
   "source": [
    "Tanto com o histograma acima, como com o boxplot abaixo podemos notar uma concentração maior das médias de avaliações dos filmes entre 2,5 e 3,7. Mas a mediana por volta dos 3,2. Há ainda uma quantidade boa de filmes que tenham recebido nota média inferior a 2 e poucos que tenham recebido nota média por volta do 5."
   ]
  },
  {
   "cell_type": "code",
   "execution_count": 23,
   "metadata": {
    "jupyter": {
     "source_hidden": true
    }
   },
   "outputs": [
    {
     "data": {
      "image/png": "[encoded data removed]",
      "text/plain": [
       "<Figure size 576x432 with 1 Axes>"
      ]
     },
     "metadata": {
      "needs_background": "light"
     },
     "output_type": "display_data"
    }
   ],
   "source": [
    "plt.figure(figsize=(8,6))\n",
    "sns.boxplot(y = 'mean', data = df_agrupado, color='red')\n",
    "plt.title('Boxplot da distribuição da quantidade de avaliações', fontsize=18)\n",
    "plt.ylabel('Quantidade de avaliações recebidas', fontsize=15)\n",
    "plt.show()"
   ]
  },
  {
   "cell_type": "markdown",
   "metadata": {},
   "source": [
    "#### A relação entre média e quantidade de avaliações"
   ]
  },
  {
   "cell_type": "markdown",
   "metadata": {},
   "source": [
    "Precisamente temos uma mediana geral de 27 avaliações por filme e uma nota médiana geral de 3,16."
   ]
  },
  {
   "cell_type": "code",
   "execution_count": 24,
   "metadata": {},
   "outputs": [
    {
     "data": {
      "text/plain": [
       "id_filme    841.500000\n",
       "count        27.000000\n",
       "mean          3.161528\n",
       "dtype: float64"
      ]
     },
     "execution_count": 24,
     "metadata": {},
     "output_type": "execute_result"
    }
   ],
   "source": [
    "df_agrupado.median()"
   ]
  },
  {
   "cell_type": "markdown",
   "metadata": {},
   "source": [
    "Mas abrindo ainda mais esses números pelos filmes em sí, podemos enxergar..."
   ]
  },
  {
   "cell_type": "code",
   "execution_count": 25,
   "metadata": {},
   "outputs": [],
   "source": [
    "#Criando um dataframe temporário para a análise em questão\n",
    "df_agrupado = df_agrupado.reset_index().merge(df_item, left_on='id_filme', right_on='id_filme', how='left')"
   ]
  },
  {
   "cell_type": "markdown",
   "metadata": {},
   "source": [
    "Top 10 filmes que mais receberam avaliações:"
   ]
  },
  {
   "cell_type": "code",
   "execution_count": 26,
   "metadata": {},
   "outputs": [
    {
     "data": {
      "text/html": [
       "<div>\n",
       "<style scoped>\n",
       "    .dataframe tbody tr th:only-of-type {\n",
       "        vertical-align: middle;\n",
       "    }\n",
       "\n",
       "    .dataframe tbody tr th {\n",
       "        vertical-align: top;\n",
       "    }\n",
       "\n",
       "    .dataframe thead th {\n",
       "        text-align: right;\n",
       "    }\n",
       "</style>\n",
       "<table border=\"1\" class=\"dataframe\">\n",
       "  <thead>\n",
       "    <tr style=\"text-align: right;\">\n",
       "      <th></th>\n",
       "      <th>nome_filme</th>\n",
       "      <th>count</th>\n",
       "    </tr>\n",
       "  </thead>\n",
       "  <tbody>\n",
       "    <tr>\n",
       "      <th>1128</th>\n",
       "      <td>Star Wars (1977)</td>\n",
       "      <td>583</td>\n",
       "    </tr>\n",
       "    <tr>\n",
       "      <th>859</th>\n",
       "      <td>Contact (1997)</td>\n",
       "      <td>509</td>\n",
       "    </tr>\n",
       "    <tr>\n",
       "      <th>2</th>\n",
       "      <td>Fargo (1996)</td>\n",
       "      <td>508</td>\n",
       "    </tr>\n",
       "    <tr>\n",
       "      <th>774</th>\n",
       "      <td>Return of the Jedi (1983)</td>\n",
       "      <td>507</td>\n",
       "    </tr>\n",
       "    <tr>\n",
       "      <th>899</th>\n",
       "      <td>Liar Liar (1997)</td>\n",
       "      <td>485</td>\n",
       "    </tr>\n",
       "    <tr>\n",
       "      <th>890</th>\n",
       "      <td>English Patient, The (1996)</td>\n",
       "      <td>481</td>\n",
       "    </tr>\n",
       "    <tr>\n",
       "      <th>892</th>\n",
       "      <td>Scream (1996)</td>\n",
       "      <td>478</td>\n",
       "    </tr>\n",
       "    <tr>\n",
       "      <th>0</th>\n",
       "      <td>Toy Story (1995)</td>\n",
       "      <td>452</td>\n",
       "    </tr>\n",
       "    <tr>\n",
       "      <th>907</th>\n",
       "      <td>Air Force One (1997)</td>\n",
       "      <td>431</td>\n",
       "    </tr>\n",
       "    <tr>\n",
       "      <th>235</th>\n",
       "      <td>Independence Day (ID4) (1996)</td>\n",
       "      <td>429</td>\n",
       "    </tr>\n",
       "  </tbody>\n",
       "</table>\n",
       "</div>"
      ],
      "text/plain": [
       "                         nome_filme  count\n",
       "1128               Star Wars (1977)    583\n",
       "859                  Contact (1997)    509\n",
       "2                      Fargo (1996)    508\n",
       "774       Return of the Jedi (1983)    507\n",
       "899                Liar Liar (1997)    485\n",
       "890     English Patient, The (1996)    481\n",
       "892                   Scream (1996)    478\n",
       "0                  Toy Story (1995)    452\n",
       "907            Air Force One (1997)    431\n",
       "235   Independence Day (ID4) (1996)    429"
      ]
     },
     "execution_count": 26,
     "metadata": {},
     "output_type": "execute_result"
    }
   ],
   "source": [
    "df_agrupado[['nome_filme','count']].sort_values(by='count', ascending=False).head(10)"
   ]
  },
  {
   "cell_type": "markdown",
   "metadata": {},
   "source": [
    "Top 10 filmes mais bem avaliados (com pelo menos 100 avaliações cada):"
   ]
  },
  {
   "cell_type": "code",
   "execution_count": 27,
   "metadata": {},
   "outputs": [
    {
     "data": {
      "text/html": [
       "<div>\n",
       "<style scoped>\n",
       "    .dataframe tbody tr th:only-of-type {\n",
       "        vertical-align: middle;\n",
       "    }\n",
       "\n",
       "    .dataframe tbody tr th {\n",
       "        vertical-align: top;\n",
       "    }\n",
       "\n",
       "    .dataframe thead th {\n",
       "        text-align: right;\n",
       "    }\n",
       "</style>\n",
       "<table border=\"1\" class=\"dataframe\">\n",
       "  <thead>\n",
       "    <tr style=\"text-align: right;\">\n",
       "      <th></th>\n",
       "      <th>nome_filme</th>\n",
       "      <th>mean</th>\n",
       "      <th>count</th>\n",
       "    </tr>\n",
       "  </thead>\n",
       "  <tbody>\n",
       "    <tr>\n",
       "      <th>1026</th>\n",
       "      <td>Close Shave, A (1995)</td>\n",
       "      <td>4.491071</td>\n",
       "      <td>112</td>\n",
       "    </tr>\n",
       "    <tr>\n",
       "      <th>926</th>\n",
       "      <td>Schindler's List (1993)</td>\n",
       "      <td>4.466443</td>\n",
       "      <td>298</td>\n",
       "    </tr>\n",
       "    <tr>\n",
       "      <th>760</th>\n",
       "      <td>Wrong Trousers, The (1993)</td>\n",
       "      <td>4.466102</td>\n",
       "      <td>118</td>\n",
       "    </tr>\n",
       "    <tr>\n",
       "      <th>1109</th>\n",
       "      <td>Casablanca (1942)</td>\n",
       "      <td>4.456790</td>\n",
       "      <td>243</td>\n",
       "    </tr>\n",
       "    <tr>\n",
       "      <th>157</th>\n",
       "      <td>Wallace &amp; Gromit: The Best of Aardman Animatio...</td>\n",
       "      <td>4.447761</td>\n",
       "      <td>67</td>\n",
       "    </tr>\n",
       "    <tr>\n",
       "      <th>1283</th>\n",
       "      <td>Shawshank Redemption, The (1994)</td>\n",
       "      <td>4.445230</td>\n",
       "      <td>283</td>\n",
       "    </tr>\n",
       "    <tr>\n",
       "      <th>1243</th>\n",
       "      <td>Rear Window (1954)</td>\n",
       "      <td>4.387560</td>\n",
       "      <td>209</td>\n",
       "    </tr>\n",
       "    <tr>\n",
       "      <th>223</th>\n",
       "      <td>Usual Suspects, The (1995)</td>\n",
       "      <td>4.385768</td>\n",
       "      <td>267</td>\n",
       "    </tr>\n",
       "    <tr>\n",
       "      <th>1128</th>\n",
       "      <td>Star Wars (1977)</td>\n",
       "      <td>4.358491</td>\n",
       "      <td>583</td>\n",
       "    </tr>\n",
       "    <tr>\n",
       "      <th>770</th>\n",
       "      <td>12 Angry Men (1957)</td>\n",
       "      <td>4.344000</td>\n",
       "      <td>125</td>\n",
       "    </tr>\n",
       "  </tbody>\n",
       "</table>\n",
       "</div>"
      ],
      "text/plain": [
       "                                             nome_filme      mean  count\n",
       "1026                              Close Shave, A (1995)  4.491071    112\n",
       "926                             Schindler's List (1993)  4.466443    298\n",
       "760                          Wrong Trousers, The (1993)  4.466102    118\n",
       "1109                                  Casablanca (1942)  4.456790    243\n",
       "157   Wallace & Gromit: The Best of Aardman Animatio...  4.447761     67\n",
       "1283                   Shawshank Redemption, The (1994)  4.445230    283\n",
       "1243                                 Rear Window (1954)  4.387560    209\n",
       "223                          Usual Suspects, The (1995)  4.385768    267\n",
       "1128                                   Star Wars (1977)  4.358491    583\n",
       "770                                 12 Angry Men (1957)  4.344000    125"
      ]
     },
     "execution_count": 27,
     "metadata": {},
     "output_type": "execute_result"
    }
   ],
   "source": [
    "df_agrupado[df_agrupado['count'] > 50][['nome_filme','mean', 'count']].sort_values(by='mean', ascending=False).head(10)"
   ]
  },
  {
   "cell_type": "markdown",
   "metadata": {},
   "source": [
    "Será que podemos dizer que os filmes mais avaliados, o que é uma proxy para talvez os filmes mais vistos, serem os filmes mais bem avaliados? De fato, apesar de existir alguma correlação entre essa quantidades, ela é fraca. Precisamente de 0,4. Então nem sempre isso é verdade, apesar de em alguns casos podermos dizer que sim."
   ]
  },
  {
   "cell_type": "code",
   "execution_count": 28,
   "metadata": {},
   "outputs": [
    {
     "data": {
      "image/png": "[encoded data removed]",
      "text/plain": [
       "<Figure size 576x432 with 1 Axes>"
      ]
     },
     "metadata": {
      "needs_background": "light"
     },
     "output_type": "display_data"
    }
   ],
   "source": [
    "plt.figure(figsize=(8,6))\n",
    "sns.scatterplot(x='mean',y='count',data=df_agrupado,alpha=0.5, color='orange')\n",
    "plt.title('Scatterplot da correlação entre quantidade e qualidade nas avaliações', fontsize=18)\n",
    "plt.ylabel('Média das avaliações', fontsize=15)\n",
    "plt.ylabel('Quantidade de avaliações', fontsize=15)\n",
    "plt.show()"
   ]
  },
  {
   "cell_type": "code",
   "execution_count": 29,
   "metadata": {},
   "outputs": [
    {
     "data": {
      "text/html": [
       "<div>\n",
       "<style scoped>\n",
       "    .dataframe tbody tr th:only-of-type {\n",
       "        vertical-align: middle;\n",
       "    }\n",
       "\n",
       "    .dataframe tbody tr th {\n",
       "        vertical-align: top;\n",
       "    }\n",
       "\n",
       "    .dataframe thead th {\n",
       "        text-align: right;\n",
       "    }\n",
       "</style>\n",
       "<table border=\"1\" class=\"dataframe\">\n",
       "  <thead>\n",
       "    <tr style=\"text-align: right;\">\n",
       "      <th></th>\n",
       "      <th>mean</th>\n",
       "      <th>count</th>\n",
       "    </tr>\n",
       "  </thead>\n",
       "  <tbody>\n",
       "    <tr>\n",
       "      <th>mean</th>\n",
       "      <td>1.000000</td>\n",
       "      <td>0.429659</td>\n",
       "    </tr>\n",
       "    <tr>\n",
       "      <th>count</th>\n",
       "      <td>0.429659</td>\n",
       "      <td>1.000000</td>\n",
       "    </tr>\n",
       "  </tbody>\n",
       "</table>\n",
       "</div>"
      ],
      "text/plain": [
       "           mean     count\n",
       "mean   1.000000  0.429659\n",
       "count  0.429659  1.000000"
      ]
     },
     "execution_count": 29,
     "metadata": {},
     "output_type": "execute_result"
    }
   ],
   "source": [
    "#Os números de correlação exatos vieram daqui:\n",
    "df_agrupado[['mean','count']].corr()"
   ]
  },
  {
   "cell_type": "markdown",
   "metadata": {},
   "source": [
    "#### Quais são os temas que mais receberam avaliações"
   ]
  },
  {
   "cell_type": "markdown",
   "metadata": {},
   "source": [
    "Lembrando que um filme pode pertencer a mais de um tema, temos a seguinte análise a ser feita:"
   ]
  },
  {
   "cell_type": "code",
   "execution_count": 30,
   "metadata": {},
   "outputs": [
    {
     "data": {
      "image/png": "[encoded data removed]",
      "text/plain": [
       "<Figure size 864x576 with 1 Axes>"
      ]
     },
     "metadata": {
      "needs_background": "light"
     },
     "output_type": "display_data"
    }
   ],
   "source": [
    "#Preparação do dado para a plotagem\n",
    "cols = df_agrupado.columns[6:]\n",
    "dict_cols = {coluna:0 for coluna in cols}\n",
    "\n",
    "for i in df_agrupado.index:\n",
    "    for coluna in cols:\n",
    "        if (df_agrupado.iloc[i][coluna] == 1):\n",
    "            dict_cols[coluna] += df_agrupado.iloc[i]['count']\n",
    "dict_cols = {k: v for k, v in sorted(dict_cols.items(), key=lambda item: item[1], reverse=True)}\n",
    "\n",
    "#plotagem\n",
    "plt.figure(figsize=(12,8))\n",
    "plt.title('Temas que mais receberam avaliações na base de dados', fontsize=18)\n",
    "plt.ylabel('Temas', fontsize=15)\n",
    "plt.xlabel('Quantidade de avaliações', fontsize=15)\n",
    "sns.set(style=\"darkgrid\")\n",
    "ax = sns.barplot(x=list(dict_cols.values()), y=list(dict_cols.keys()),  palette=\"Set2\")\n",
    "\n",
    "for p in ax.patches:\n",
    "    ax.annotate(format(p.get_width(), '.0f'), \n",
    "                   (p.get_width() + 1100, (p.get_height()) +  p.get_y()), \n",
    "                   ha = 'center', va = 'center', \n",
    "                   xytext = (0, 9), \n",
    "                   textcoords = 'offset points')\n",
    "\n",
    "plt.show()"
   ]
  },
  {
   "cell_type": "markdown",
   "metadata": {},
   "source": [
    "Temos que o Drama foi o tema que mais recebeu avaliações, seguido por comédia e ação."
   ]
  },
  {
   "cell_type": "markdown",
   "metadata": {},
   "source": [
    "#### Quantidade de filmes publicados por ano"
   ]
  },
  {
   "cell_type": "markdown",
   "metadata": {},
   "source": [
    "Analisando a quantidade de filmes publicados por ano podemos ver que alguns filmes bem antigos estão sendo avaliados mesmo depois de varios anos, mas o pico nos ultimos 5 anos ainda é o que mais representa a base de dados."
   ]
  },
  {
   "cell_type": "code",
   "execution_count": 31,
   "metadata": {
    "jupyter": {
     "source_hidden": true
    }
   },
   "outputs": [
    {
     "data": {
      "image/png": "[encoded data removed]",
      "text/plain": [
       "<Figure size 1440x576 with 1 Axes>"
      ]
     },
     "metadata": {},
     "output_type": "display_data"
    }
   ],
   "source": [
    "df_item['year'] = df_item['data_lancamento'].str[-4:]\n",
    "g = df_item[['year','id_filme']].groupby(by='year').count().to_dict()\n",
    "g = g['id_filme']\n",
    "fig, ax = plt.subplots(figsize = (20, 8))\n",
    "\n",
    "x=list(g.keys())[::-1]\n",
    "y=list(g.values())[::-1]\n",
    "ax.vlines(x, ymin=0, ymax=y, color='green')\n",
    "ax.plot(x,y, \"o\", color='maroon')\n",
    "ax.set_xticklabels(x, rotation = 60)\n",
    "ax.set_ylabel(\"Quantidade de filmes lançados por ano\", fontsize=15)\n",
    "# set a title\n",
    "ax.set_title(\"Lollipop da quantidade de filmes lançados por ano\", fontsize=18)\n",
    "plt.show()"
   ]
  },
  {
   "cell_type": "markdown",
   "metadata": {},
   "source": [
    "#### Quantidade de avaliações por gênero"
   ]
  },
  {
   "cell_type": "markdown",
   "metadata": {},
   "source": [
    "Analisando a quantidade de avaliações feitas por gênero temos que os homens tem maior presença na base de dados. Cerca de 2.9x mais avaliações."
   ]
  },
  {
   "cell_type": "code",
   "execution_count": 32,
   "metadata": {},
   "outputs": [],
   "source": [
    "df = df.merge(df_usuarios, left_on='id_usuario', right_on='id_usuario', how='left')"
   ]
  },
  {
   "cell_type": "code",
   "execution_count": 33,
   "metadata": {},
   "outputs": [
    {
     "data": {
      "image/png": "[encoded data removed]",
      "text/plain": [
       "<Figure size 432x288 with 1 Axes>"
      ]
     },
     "metadata": {},
     "output_type": "display_data"
    }
   ],
   "source": [
    "plt.figure()\n",
    "ax = sns.countplot(x=\"sexo\", data=df, palette=\"Set2\")\n",
    "sns.set(style=\"darkgrid\", rc={'figure.figsize':(12,8)})\n",
    "plt.title('Quantidade de avaliações por gênero', fontsize=18)\n",
    "plt.ylabel('Quantidade de avaliações', fontsize=15)\n",
    "plt.xlabel('Gênero', fontsize=15)\n",
    "\n",
    "for p in ax.patches:\n",
    "    ax.annotate(format(p.get_height(), '.0f'), \n",
    "                   (p.get_x() + p.get_width() / 2., p.get_height()), \n",
    "                   ha = 'center', va = 'center', \n",
    "                   xytext = (0, 9), \n",
    "                   textcoords = 'offset points')\n",
    "\n",
    "plt.show()"
   ]
  },
  {
   "cell_type": "markdown",
   "metadata": {},
   "source": [
    "#### Quantidade de avaliações por estado (EUA)"
   ]
  },
  {
   "cell_type": "markdown",
   "metadata": {},
   "source": [
    "Analisando a quantidade de avaliações feitas por cada estado dos EUA na base. Temos que os Califórnia, Minnesota e Nova Iorque são os que tem maior presença na base de dados."
   ]
  },
  {
   "cell_type": "code",
   "execution_count": 34,
   "metadata": {
    "jupyter": {
     "source_hidden": true
    }
   },
   "outputs": [
    {
     "data": {
      "image/png": "[encoded data removed]",
      "text/plain": [
       "<Figure size 864x1008 with 1 Axes>"
      ]
     },
     "metadata": {},
     "output_type": "display_data"
    }
   ],
   "source": [
    "#Preparação do dado para a plotagem\n",
    "dict_cols = df.groupby(by='estado_usa').count().to_dict()['id_usuario']\n",
    "dict_cols = {k: v for k, v in sorted(dict_cols.items(), key=lambda item: item[1], reverse=True)}\n",
    "\n",
    "#plotagem\n",
    "plt.figure(figsize=(12,14))\n",
    "plt.title('Estados que mais realizaram avaliações na base de dados', fontsize=18)\n",
    "plt.ylabel('Estados', fontsize=15)\n",
    "plt.xlabel('Quantidade de avaliações', fontsize=15)\n",
    "sns.set(style=\"darkgrid\")\n",
    "ax = sns.barplot(x=list(dict_cols.values()), y=list(dict_cols.keys()),  color='pink')\n",
    "    \n",
    "for p in ax.patches:\n",
    "    ax.annotate(format(p.get_width(), '.0f'), \n",
    "                   (p.get_width() + 400, (p.get_height()) +  p.get_y()), \n",
    "                   ha = 'center', va = 'center', \n",
    "                   xytext = (0, 9), \n",
    "                   textcoords = 'offset points')\n",
    "    \n",
    "plt.show()"
   ]
  },
  {
   "cell_type": "markdown",
   "metadata": {},
   "source": [
    "#### Quantidade de avaliações por profissão"
   ]
  },
  {
   "cell_type": "markdown",
   "metadata": {},
   "source": [
    "Analisando a quantidade de avaliações feitas por cada profissão na base. Temos que os estudantes são os que tem maior presença na base de dados. Cerca de 2x mais avaliações que a segunda categoria."
   ]
  },
  {
   "cell_type": "code",
   "execution_count": 35,
   "metadata": {
    "jupyter": {
     "source_hidden": true
    }
   },
   "outputs": [
    {
     "data": {
      "image/png": "[encoded data removed]",
      "text/plain": [
       "<Figure size 864x1008 with 1 Axes>"
      ]
     },
     "metadata": {},
     "output_type": "display_data"
    }
   ],
   "source": [
    "#Preparação do dado para a plotagem\n",
    "dict_cols = df.groupby(by='profissao').count().to_dict()['id_usuario']\n",
    "dict_cols = {k: v for k, v in sorted(dict_cols.items(), key=lambda item: item[1], reverse=True)}\n",
    "\n",
    "#plotagem\n",
    "plt.figure(figsize=(12,14))\n",
    "plt.title('Profissões que mais realizaram avaliações na base de dados', fontsize=18)\n",
    "plt.ylabel('Profissões', fontsize=15)\n",
    "plt.xlabel('Quantidade de avaliações', fontsize=15)\n",
    "sns.set(style=\"darkgrid\")\n",
    "ax = sns.barplot(x=list(dict_cols.values()), y=list(dict_cols.keys()),  color='green')\n",
    "    \n",
    "for p in ax.patches:\n",
    "    ax.annotate(format(p.get_width(), '.0f'), \n",
    "                   (p.get_width() + 700, (p.get_height()) +  p.get_y()), \n",
    "                   ha = 'center', va = 'center', \n",
    "                   xytext = (0, 9), \n",
    "                   textcoords = 'offset points')\n",
    "    \n",
    "plt.show()"
   ]
  },
  {
   "cell_type": "markdown",
   "metadata": {},
   "source": [
    "   "
   ]
  },
  {
   "cell_type": "markdown",
   "metadata": {},
   "source": [
    "    "
   ]
  },
  {
   "cell_type": "markdown",
   "metadata": {},
   "source": [
    "      "
   ]
  },
  {
   "cell_type": "markdown",
   "metadata": {},
   "source": [
    "## 4. Sistema de Recomendação"
   ]
  },
  {
   "cell_type": "markdown",
   "metadata": {},
   "source": [
    "### Popularidade"
   ]
  },
  {
   "cell_type": "markdown",
   "metadata": {},
   "source": [
    "Como mencionado no início, a abordagem baseada em popularidade é a mais simples de todas. Olha diretamente para como este filme está se destacando dentre os outros dado critérios de quantidade e qualidade das avaliações recebidas, mas não distingue metadados usuários e nem de filmes. É uma recomendação mais generalista. É o famoso \"O que está bombando na Netflix\".\n",
    "\n",
    "O pipeline do nosso desenvolvimento seguirá os seguintes passos:\n",
    "\n",
    "- Definir uma métrica de popularidade que relacione quantidade e qualidade das avaliações\n",
    "- Aplicar esta métrica para os filmes da base\n",
    "- Ordenar o resultado e apresentar o top-N\n",
    "\n",
    "O primeiro ponto é muito importante para o prosseguimento, uma vez que podemos encontrar filmes muito bem avaliados que ainda não tenham uma quantidade rasoável de avaliações recebidas para ponderar a média. Poderíamos ter, por exemplo, um filme com 6 avaliações e uma média de 5, que não necessáriamente seria melhor que um outro filme que possuísse 90 avaliações e uma média de 4.7 . Neste caso, estaremos utilizando uma métrica desenvolvida pelo IMDb (Internet Movie Database) que visa balancear estes pesos.\n",
    "\n",
    "Seja WR a média ponderada do IMDb, temos:\n",
    "\n",
    "WR = ( R\\*v + C*m ) / ( v+m )\n",
    "\n",
    "onde,\n",
    "\n",
    "- R --> média das avaliações recebidas por um filme\n",
    "- v --> quantidade de avaliações recebidas por um filme\n",
    "- C --> média de todas as avaliações da base de dados\n",
    "- m --> é o mínimo de avaliações que um filme precisa para entrar no ranking\n",
    "\n",
    "Para m, vou assumir que o 90º percentil é um bom número para ser utilizado como linha de corte. Ou seja, sempre que um filme estiver acima desse valor, ele receberá a métrica de popularidade e poderá ser retornado pela função.\n",
    "\n",
    "Bora definir esta função então!"
   ]
  },
  {
   "cell_type": "code",
   "execution_count": 36,
   "metadata": {},
   "outputs": [],
   "source": [
    "def wr_imdb(dataframe, nome_coluna_avaliacoes, nome_coluna_id_filme, percentil_minimo_avaliacoes):\n",
    "    \"\"\"\n",
    "    Função que executa a métrica de média ponderada definida pela IMDB\n",
    "    \n",
    "    \n",
    "    Parâmetros\n",
    "    ----------\n",
    "    dataframe: DataFrame\n",
    "        Pandas DataFrame que contem as informações necessárias para aplicação da função\n",
    "    nome_coluna_avaliacoes: String\n",
    "        O nome da coluna ao qual a formula será aplicada\n",
    "    nome_coluna_id_filme: String\n",
    "        O nome da coluna que identifica cada filme na base de dados\n",
    "    percentil_minimo_avaliacoes: Float\n",
    "        A quantidade do percentil que reflete o mínimo de avaliações necessárias para que um filme possa ser ranqueado\n",
    "        \n",
    "    \n",
    "    Retorno\n",
    "    ----------\n",
    "    DataFrame\n",
    "        Um Pandas DataFrame contendo em uma coluna o identificador de cada filme único na base e numa outra coluna a métrica de popularidade aplicada.\n",
    "    \"\"\"\n",
    "    \n",
    "    dataframe_auxiliar = dataframe[[nome_coluna_id_filme,nome_coluna_avaliacoes]].groupby(by=nome_coluna_id_filme).agg(['count','mean'])[nome_coluna_avaliacoes].reset_index()\n",
    "    \n",
    "    C = dataframe[nome_coluna_avaliacoes].mean()\n",
    "    m = dataframe_auxiliar['count'].quantile(percentil_minimo_avaliacoes)\n",
    "    \n",
    "    lista_auxiliar = []\n",
    "    for i in dataframe_auxiliar.index:\n",
    "        if (dataframe_auxiliar.iloc[i]['count'] < m):\n",
    "            lista_auxiliar.append(1)\n",
    "        else:\n",
    "            R = dataframe_auxiliar.iloc[i]['mean']\n",
    "            v = dataframe_auxiliar.iloc[i]['count']\n",
    "            lista_auxiliar.append( ( R*v + C*m ) / (v+m) )\n",
    "    \n",
    "    dataframe_auxiliar['popularidade'] = lista_auxiliar\n",
    "    \n",
    "    return dataframe_auxiliar[[nome_coluna_id_filme,'popularidade']].copy()"
   ]
  },
  {
   "cell_type": "markdown",
   "metadata": {},
   "source": [
    "Vamos aplicar a função à nossa base de dados:"
   ]
  },
  {
   "cell_type": "code",
   "execution_count": 37,
   "metadata": {},
   "outputs": [],
   "source": [
    "df_resultado_popularidade = wr_imdb(df, 'avaliacao', 'id_filme', 0.9)"
   ]
  },
  {
   "cell_type": "markdown",
   "metadata": {},
   "source": [
    "Assim podemos ver os resultados obtidos para as 10 primeiras posições ordenadas pela popularidade."
   ]
  },
  {
   "cell_type": "code",
   "execution_count": 38,
   "metadata": {},
   "outputs": [
    {
     "data": {
      "text/html": [
       "<div>\n",
       "<style scoped>\n",
       "    .dataframe tbody tr th:only-of-type {\n",
       "        vertical-align: middle;\n",
       "    }\n",
       "\n",
       "    .dataframe tbody tr th {\n",
       "        vertical-align: top;\n",
       "    }\n",
       "\n",
       "    .dataframe thead th {\n",
       "        text-align: right;\n",
       "    }\n",
       "</style>\n",
       "<table border=\"1\" class=\"dataframe\">\n",
       "  <thead>\n",
       "    <tr style=\"text-align: right;\">\n",
       "      <th></th>\n",
       "      <th>id_filme</th>\n",
       "      <th>popularidade</th>\n",
       "      <th>nome_filme</th>\n",
       "    </tr>\n",
       "  </thead>\n",
       "  <tbody>\n",
       "    <tr>\n",
       "      <th>1128</th>\n",
       "      <td>50</td>\n",
       "      <td>4.172269</td>\n",
       "      <td>Star Wars (1977)</td>\n",
       "    </tr>\n",
       "    <tr>\n",
       "      <th>926</th>\n",
       "      <td>318</td>\n",
       "      <td>4.127508</td>\n",
       "      <td>Schindler's List (1993)</td>\n",
       "    </tr>\n",
       "    <tr>\n",
       "      <th>1283</th>\n",
       "      <td>64</td>\n",
       "      <td>4.102979</td>\n",
       "      <td>Shawshank Redemption, The (1994)</td>\n",
       "    </tr>\n",
       "    <tr>\n",
       "      <th>1109</th>\n",
       "      <td>483</td>\n",
       "      <td>4.076569</td>\n",
       "      <td>Casablanca (1942)</td>\n",
       "    </tr>\n",
       "    <tr>\n",
       "      <th>301</th>\n",
       "      <td>127</td>\n",
       "      <td>4.064513</td>\n",
       "      <td>Godfather, The (1972)</td>\n",
       "    </tr>\n",
       "    <tr>\n",
       "      <th>1660</th>\n",
       "      <td>98</td>\n",
       "      <td>4.060011</td>\n",
       "      <td>Silence of the Lambs, The (1991)</td>\n",
       "    </tr>\n",
       "    <tr>\n",
       "      <th>223</th>\n",
       "      <td>12</td>\n",
       "      <td>4.054005</td>\n",
       "      <td>Usual Suspects, The (1995)</td>\n",
       "    </tr>\n",
       "    <tr>\n",
       "      <th>766</th>\n",
       "      <td>174</td>\n",
       "      <td>4.045070</td>\n",
       "      <td>Raiders of the Lost Ark (1981)</td>\n",
       "    </tr>\n",
       "    <tr>\n",
       "      <th>921</th>\n",
       "      <td>313</td>\n",
       "      <td>4.012613</td>\n",
       "      <td>Titanic (1997)</td>\n",
       "    </tr>\n",
       "    <tr>\n",
       "      <th>1243</th>\n",
       "      <td>603</td>\n",
       "      <td>4.004091</td>\n",
       "      <td>Rear Window (1954)</td>\n",
       "    </tr>\n",
       "  </tbody>\n",
       "</table>\n",
       "</div>"
      ],
      "text/plain": [
       "     id_filme  popularidade                        nome_filme\n",
       "1128       50      4.172269                  Star Wars (1977)\n",
       "926       318      4.127508           Schindler's List (1993)\n",
       "1283       64      4.102979  Shawshank Redemption, The (1994)\n",
       "1109      483      4.076569                 Casablanca (1942)\n",
       "301       127      4.064513             Godfather, The (1972)\n",
       "1660       98      4.060011  Silence of the Lambs, The (1991)\n",
       "223        12      4.054005        Usual Suspects, The (1995)\n",
       "766       174      4.045070    Raiders of the Lost Ark (1981)\n",
       "921       313      4.012613                    Titanic (1997)\n",
       "1243      603      4.004091                Rear Window (1954)"
      ]
     },
     "execution_count": 38,
     "metadata": {},
     "output_type": "execute_result"
    }
   ],
   "source": [
    "df_resultado_popularidade.merge(df_item[['id_filme','nome_filme']], left_on='id_filme', right_on='id_filme', how='left').sort_values(by='popularidade', ascending=False).head(10)"
   ]
  },
  {
   "cell_type": "markdown",
   "metadata": {},
   "source": [
    "### Popularidade nos últimos tempos"
   ]
  },
  {
   "cell_type": "markdown",
   "metadata": {},
   "source": [
    "Também pode ser interessante análisar esta métrica de popularidade seguindo algum critério de período. Ou seja, pegar \"o que está bombando nos ultimos tempos\",e não na base de dados toda sem nenhum critério de busca. A netflix reconhecidamente faz este tipo de abordagem. Vamos ajustar a função definida acima então, acrescentando este parâmetro de período de tempo."
   ]
  },
  {
   "cell_type": "code",
   "execution_count": 39,
   "metadata": {},
   "outputs": [],
   "source": [
    "def current_wr_imdb(dataframe, nome_coluna_avaliacoes, nome_coluna_id_filme, percentil_minimo_avaliacoes, periodo_maximo_considerado, nome_coluna_data_avaliacao):\n",
    "    \"\"\"\n",
    "    Função que executa a métrica de média ponderada definida pela IMDB, mas apenas para as avaliações feitas no período de tempo passado como parâmetro.\n",
    "    \n",
    "    \n",
    "    Parâmetros\n",
    "    ----------\n",
    "    dataframe: DataFrame\n",
    "        Pandas DataFrame que contem as informações necessárias para aplicação da função\n",
    "    nome_coluna_avaliacoes: String\n",
    "        O nome da coluna ao qual a formula será aplicada\n",
    "    nome_coluna_id_filme: String\n",
    "        O nome da coluna que identifica cada filme na base de dados\n",
    "    percentil_minimo_avaliacoes: Float\n",
    "        A quantidade do percentil que reflete o mínimo de avaliações necessárias para que um filme possa ser ranqueado\n",
    "    periodo_maximo_considerado: Integer\n",
    "        A quantidade de dias considerados na janela de análise\n",
    "    nome_coluna_data_avaliacao: String\n",
    "        O nome da coluna que contém a data da avaliação feita\n",
    "        \n",
    "    \n",
    "    Retorno\n",
    "    ----------\n",
    "    DataFrame\n",
    "        Um Pandas DataFrame contendo em uma coluna o identificador de cada filme único na base e numa outra coluna a métrica de popularidade aplicada.\n",
    "    \"\"\"\n",
    "    \n",
    "    dataframe_auxiliar = dataframe.copy()\n",
    "    dataframe_auxiliar[nome_coluna_data_avaliacao] = pd.to_datetime(dataframe_auxiliar[nome_coluna_data_avaliacao])\n",
    "    dataframe_auxiliar = dataframe_auxiliar[dataframe_auxiliar[nome_coluna_data_avaliacao] >=  dataframe_auxiliar[nome_coluna_data_avaliacao].max() - pd.Timedelta(days=periodo_maximo_considerado)].copy()\n",
    "    \n",
    "    return wr_imdb(dataframe_auxiliar, nome_coluna_avaliacoes, nome_coluna_id_filme, percentil_minimo_avaliacoes)"
   ]
  },
  {
   "cell_type": "markdown",
   "metadata": {},
   "source": [
    "Vamos aplicar a função à nossa base de dados com um período de 30 dias:"
   ]
  },
  {
   "cell_type": "code",
   "execution_count": 40,
   "metadata": {},
   "outputs": [],
   "source": [
    "df_resultado_popularidade_atual = current_wr_imdb(df, 'avaliacao', 'id_filme', 0.9, 30, 'data_avaliacao')"
   ]
  },
  {
   "cell_type": "markdown",
   "metadata": {},
   "source": [
    "Assim podemos ver os resultados obtidos para as 10 primeiras posições ordenadas pela popularidade atual."
   ]
  },
  {
   "cell_type": "code",
   "execution_count": 41,
   "metadata": {},
   "outputs": [
    {
     "data": {
      "text/html": [
       "<div>\n",
       "<style scoped>\n",
       "    .dataframe tbody tr th:only-of-type {\n",
       "        vertical-align: middle;\n",
       "    }\n",
       "\n",
       "    .dataframe tbody tr th {\n",
       "        vertical-align: top;\n",
       "    }\n",
       "\n",
       "    .dataframe thead th {\n",
       "        text-align: right;\n",
       "    }\n",
       "</style>\n",
       "<table border=\"1\" class=\"dataframe\">\n",
       "  <thead>\n",
       "    <tr style=\"text-align: right;\">\n",
       "      <th></th>\n",
       "      <th>id_filme</th>\n",
       "      <th>popularidade</th>\n",
       "      <th>nome_filme</th>\n",
       "    </tr>\n",
       "  </thead>\n",
       "  <tbody>\n",
       "    <tr>\n",
       "      <th>691</th>\n",
       "      <td>318</td>\n",
       "      <td>4.209171</td>\n",
       "      <td>Schindler's List (1993)</td>\n",
       "    </tr>\n",
       "    <tr>\n",
       "      <th>889</th>\n",
       "      <td>50</td>\n",
       "      <td>4.203111</td>\n",
       "      <td>Star Wars (1977)</td>\n",
       "    </tr>\n",
       "    <tr>\n",
       "      <th>1004</th>\n",
       "      <td>603</td>\n",
       "      <td>4.143653</td>\n",
       "      <td>Rear Window (1954)</td>\n",
       "    </tr>\n",
       "    <tr>\n",
       "      <th>809</th>\n",
       "      <td>427</td>\n",
       "      <td>4.078102</td>\n",
       "      <td>To Kill a Mockingbird (1962)</td>\n",
       "    </tr>\n",
       "    <tr>\n",
       "      <th>733</th>\n",
       "      <td>357</td>\n",
       "      <td>4.072244</td>\n",
       "      <td>One Flew Over the Cuckoo's Nest (1975)</td>\n",
       "    </tr>\n",
       "    <tr>\n",
       "      <th>870</th>\n",
       "      <td>483</td>\n",
       "      <td>4.069633</td>\n",
       "      <td>Casablanca (1942)</td>\n",
       "    </tr>\n",
       "    <tr>\n",
       "      <th>2</th>\n",
       "      <td>100</td>\n",
       "      <td>4.052541</td>\n",
       "      <td>Fargo (1996)</td>\n",
       "    </tr>\n",
       "    <tr>\n",
       "      <th>906</th>\n",
       "      <td>515</td>\n",
       "      <td>4.036098</td>\n",
       "      <td>Boot, Das (1981)</td>\n",
       "    </tr>\n",
       "    <tr>\n",
       "      <th>641</th>\n",
       "      <td>272</td>\n",
       "      <td>4.032582</td>\n",
       "      <td>Good Will Hunting (1997)</td>\n",
       "    </tr>\n",
       "    <tr>\n",
       "      <th>198</th>\n",
       "      <td>12</td>\n",
       "      <td>4.026560</td>\n",
       "      <td>Usual Suspects, The (1995)</td>\n",
       "    </tr>\n",
       "  </tbody>\n",
       "</table>\n",
       "</div>"
      ],
      "text/plain": [
       "     id_filme  popularidade                              nome_filme\n",
       "691       318      4.209171                 Schindler's List (1993)\n",
       "889        50      4.203111                        Star Wars (1977)\n",
       "1004      603      4.143653                      Rear Window (1954)\n",
       "809       427      4.078102            To Kill a Mockingbird (1962)\n",
       "733       357      4.072244  One Flew Over the Cuckoo's Nest (1975)\n",
       "870       483      4.069633                       Casablanca (1942)\n",
       "2         100      4.052541                            Fargo (1996)\n",
       "906       515      4.036098                        Boot, Das (1981)\n",
       "641       272      4.032582                Good Will Hunting (1997)\n",
       "198        12      4.026560              Usual Suspects, The (1995)"
      ]
     },
     "execution_count": 41,
     "metadata": {},
     "output_type": "execute_result"
    }
   ],
   "source": [
    "df_resultado_popularidade_atual.merge(df_item[['id_filme','nome_filme']], left_on='id_filme', right_on='id_filme', how='left').sort_values(by='popularidade', ascending=False).head(10)"
   ]
  },
  {
   "cell_type": "markdown",
   "metadata": {},
   "source": [
    "Interessante notar que por exemplo \"Schindler's List (1993)\", agora o primeiro, trocou de posição com \"Star Wars (1977)\", que agora é segundo. E também que, por exemplo, \"Rear Window (1954)\" de 1954 aparece agora no top 3, e anteriormente este filme nem estava na lista. Curioso, pois mesmo em 1997 filmes de 54' ainda eram muito avaliados."
   ]
  },
  {
   "cell_type": "markdown",
   "metadata": {},
   "source": [
    "#### Busca por tema"
   ]
  },
  {
   "cell_type": "markdown",
   "metadata": {},
   "source": [
    "Desenvolvemos também uma função que filtra a base de interações de acordo com um tema escolhido. Isso pode ser de ajuda em qualquer aplicação futura. Poderíamos por exemplo pegar os filmes com tema \"crianças\" mais populares, combinando as funções anteriormente construídas."
   ]
  },
  {
   "cell_type": "code",
   "execution_count": 42,
   "metadata": {},
   "outputs": [],
   "source": [
    "def search_theme(dataframe_interacoes, dataframe_filmes, theme):\n",
    "    \"\"\"\n",
    "    Função que filtra o conjunto de dados principal (interações) de acordo com um tema passado como parâmetro.\n",
    "    \n",
    "    \n",
    "    Parâmetros\n",
    "    ----------\n",
    "    dataframe_interacoes: DataFrame\n",
    "        Pandas DataFrame que contem as informações das avaliações realizadas ao longo do tempo\n",
    "    dataframe_filmes: DataFrame\n",
    "        Pandas DataFrame que contem as informações dos temas de cada filme\n",
    "    theme: String\n",
    "        Nome da coluna que indica o tema a ser procurado.\n",
    "        \n",
    "        \n",
    "    Retorno\n",
    "    ----------\n",
    "    DataFrame\n",
    "        Existem dois retornos possíveis:\n",
    "            1. Um Pandas DataFrame vazio, caso a string passada como parâmetro em \"theme\" não encontre nenhuma coluna no dataframe de filmes; e caso contrário\n",
    "            2. Um Pandas DataFrame contendo o dataframe de interações (avaliações) filtrado pelo tema passado como parâmetro.\n",
    "    \n",
    "    \"\"\"\n",
    "    \n",
    "    if (theme not in dataframe_filmes.columns):\n",
    "        print( \"Erro: O tema que você está procurando não foi encontrado\" )\n",
    "        return pd.DataFrame()\n",
    "    else:\n",
    "        dataframe_filmes['filtro'] = True\n",
    "        dataframe_interacoes = dataframe_interacoes.merge(dataframe_filmes[dataframe_filmes[theme]==1][['id_filme','filtro']], left_on='id_filme', right_on='id_filme', how='left')\n",
    "        \n",
    "        return dataframe_interacoes[dataframe_interacoes['filtro'].notna()].copy()\n",
    "        "
   ]
  },
  {
   "cell_type": "markdown",
   "metadata": {},
   "source": [
    "Os filmes com o tema \"crianças\" mais populares dos últimos 30 dias:"
   ]
  },
  {
   "cell_type": "code",
   "execution_count": 43,
   "metadata": {},
   "outputs": [
    {
     "data": {
      "text/html": [
       "<div>\n",
       "<style scoped>\n",
       "    .dataframe tbody tr th:only-of-type {\n",
       "        vertical-align: middle;\n",
       "    }\n",
       "\n",
       "    .dataframe tbody tr th {\n",
       "        vertical-align: top;\n",
       "    }\n",
       "\n",
       "    .dataframe thead th {\n",
       "        text-align: right;\n",
       "    }\n",
       "</style>\n",
       "<table border=\"1\" class=\"dataframe\">\n",
       "  <thead>\n",
       "    <tr style=\"text-align: right;\">\n",
       "      <th></th>\n",
       "      <th>id_filme</th>\n",
       "      <th>popularidade</th>\n",
       "      <th>nome_filme</th>\n",
       "    </tr>\n",
       "  </thead>\n",
       "  <tbody>\n",
       "    <tr>\n",
       "      <th>21</th>\n",
       "      <td>132</td>\n",
       "      <td>3.891380</td>\n",
       "      <td>Wizard of Oz, The (1939)</td>\n",
       "    </tr>\n",
       "    <tr>\n",
       "      <th>0</th>\n",
       "      <td>1</td>\n",
       "      <td>3.776050</td>\n",
       "      <td>Toy Story (1995)</td>\n",
       "    </tr>\n",
       "    <tr>\n",
       "      <th>59</th>\n",
       "      <td>423</td>\n",
       "      <td>3.755508</td>\n",
       "      <td>E.T. the Extra-Terrestrial (1982)</td>\n",
       "    </tr>\n",
       "    <tr>\n",
       "      <th>89</th>\n",
       "      <td>8</td>\n",
       "      <td>3.736454</td>\n",
       "      <td>Babe (1995)</td>\n",
       "    </tr>\n",
       "    <tr>\n",
       "      <th>61</th>\n",
       "      <td>432</td>\n",
       "      <td>3.713734</td>\n",
       "      <td>Fantasia (1940)</td>\n",
       "    </tr>\n",
       "    <tr>\n",
       "      <th>74</th>\n",
       "      <td>588</td>\n",
       "      <td>3.706610</td>\n",
       "      <td>Beauty and the Beast (1991)</td>\n",
       "    </tr>\n",
       "    <tr>\n",
       "      <th>108</th>\n",
       "      <td>99</td>\n",
       "      <td>3.699945</td>\n",
       "      <td>Snow White and the Seven Dwarfs (1937)</td>\n",
       "    </tr>\n",
       "    <tr>\n",
       "      <th>56</th>\n",
       "      <td>419</td>\n",
       "      <td>3.644769</td>\n",
       "      <td>Mary Poppins (1964)</td>\n",
       "    </tr>\n",
       "    <tr>\n",
       "      <th>34</th>\n",
       "      <td>151</td>\n",
       "      <td>3.618621</td>\n",
       "      <td>Willy Wonka and the Chocolate Factory (1971)</td>\n",
       "    </tr>\n",
       "    <tr>\n",
       "      <th>43</th>\n",
       "      <td>304</td>\n",
       "      <td>3.613059</td>\n",
       "      <td>Fly Away Home (1996)</td>\n",
       "    </tr>\n",
       "  </tbody>\n",
       "</table>\n",
       "</div>"
      ],
      "text/plain": [
       "    id_filme  popularidade                                    nome_filme\n",
       "21       132      3.891380                      Wizard of Oz, The (1939)\n",
       "0          1      3.776050                              Toy Story (1995)\n",
       "59       423      3.755508             E.T. the Extra-Terrestrial (1982)\n",
       "89         8      3.736454                                   Babe (1995)\n",
       "61       432      3.713734                               Fantasia (1940)\n",
       "74       588      3.706610                   Beauty and the Beast (1991)\n",
       "108       99      3.699945        Snow White and the Seven Dwarfs (1937)\n",
       "56       419      3.644769                           Mary Poppins (1964)\n",
       "34       151      3.618621  Willy Wonka and the Chocolate Factory (1971)\n",
       "43       304      3.613059                          Fly Away Home (1996)"
      ]
     },
     "execution_count": 43,
     "metadata": {},
     "output_type": "execute_result"
    }
   ],
   "source": [
    "current_wr_imdb(search_theme(df, df_item, \"tema_criancas\"), 'avaliacao', 'id_filme', 0.9, 30, 'data_avaliacao').merge(df_item[['id_filme','nome_filme']], \n",
    "                                                                              left_on='id_filme', right_on='id_filme', how='left').sort_values(by='popularidade', ascending=False).head(10)"
   ]
  },
  {
   "cell_type": "markdown",
   "metadata": {},
   "source": [
    "### Baseados em Filtragem-Colaborativa"
   ]
  },
  {
   "cell_type": "code",
   "execution_count": 44,
   "metadata": {},
   "outputs": [
    {
     "data": {
      "text/html": [
       "<div>\n",
       "<style scoped>\n",
       "    .dataframe tbody tr th:only-of-type {\n",
       "        vertical-align: middle;\n",
       "    }\n",
       "\n",
       "    .dataframe tbody tr th {\n",
       "        vertical-align: top;\n",
       "    }\n",
       "\n",
       "    .dataframe thead th {\n",
       "        text-align: right;\n",
       "    }\n",
       "</style>\n",
       "<table border=\"1\" class=\"dataframe\">\n",
       "  <thead>\n",
       "    <tr style=\"text-align: right;\">\n",
       "      <th></th>\n",
       "      <th>id_usuario</th>\n",
       "      <th>id_filme</th>\n",
       "      <th>avaliacao</th>\n",
       "      <th>data_avaliacao</th>\n",
       "      <th>idade</th>\n",
       "      <th>sexo</th>\n",
       "      <th>profissao</th>\n",
       "      <th>estado_usa</th>\n",
       "    </tr>\n",
       "  </thead>\n",
       "  <tbody>\n",
       "    <tr>\n",
       "      <th>0</th>\n",
       "      <td>196</td>\n",
       "      <td>242</td>\n",
       "      <td>3</td>\n",
       "      <td>1997-12-04</td>\n",
       "      <td>49</td>\n",
       "      <td>M</td>\n",
       "      <td>writer</td>\n",
       "      <td>MN</td>\n",
       "    </tr>\n",
       "    <tr>\n",
       "      <th>1</th>\n",
       "      <td>186</td>\n",
       "      <td>302</td>\n",
       "      <td>3</td>\n",
       "      <td>1998-04-04</td>\n",
       "      <td>39</td>\n",
       "      <td>F</td>\n",
       "      <td>executive</td>\n",
       "      <td>OUT</td>\n",
       "    </tr>\n",
       "    <tr>\n",
       "      <th>2</th>\n",
       "      <td>22</td>\n",
       "      <td>377</td>\n",
       "      <td>1</td>\n",
       "      <td>1997-11-07</td>\n",
       "      <td>25</td>\n",
       "      <td>M</td>\n",
       "      <td>writer</td>\n",
       "      <td>KY</td>\n",
       "    </tr>\n",
       "    <tr>\n",
       "      <th>3</th>\n",
       "      <td>244</td>\n",
       "      <td>51</td>\n",
       "      <td>2</td>\n",
       "      <td>1997-11-27</td>\n",
       "      <td>28</td>\n",
       "      <td>M</td>\n",
       "      <td>technician</td>\n",
       "      <td>CO</td>\n",
       "    </tr>\n",
       "    <tr>\n",
       "      <th>4</th>\n",
       "      <td>166</td>\n",
       "      <td>346</td>\n",
       "      <td>1</td>\n",
       "      <td>1998-02-02</td>\n",
       "      <td>47</td>\n",
       "      <td>M</td>\n",
       "      <td>educator</td>\n",
       "      <td>MN</td>\n",
       "    </tr>\n",
       "  </tbody>\n",
       "</table>\n",
       "</div>"
      ],
      "text/plain": [
       "  id_usuario id_filme  avaliacao data_avaliacao  idade sexo   profissao  \\\n",
       "0        196      242          3     1997-12-04     49    M      writer   \n",
       "1        186      302          3     1998-04-04     39    F   executive   \n",
       "2         22      377          1     1997-11-07     25    M      writer   \n",
       "3        244       51          2     1997-11-27     28    M  technician   \n",
       "4        166      346          1     1998-02-02     47    M    educator   \n",
       "\n",
       "  estado_usa  \n",
       "0         MN  \n",
       "1        OUT  \n",
       "2         KY  \n",
       "3         CO  \n",
       "4         MN  "
      ]
     },
     "execution_count": 44,
     "metadata": {},
     "output_type": "execute_result"
    }
   ],
   "source": [
    "df.head()"
   ]
  },
  {
   "cell_type": "markdown",
   "metadata": {},
   "source": [
    "   "
   ]
  },
  {
   "cell_type": "code",
   "execution_count": 45,
   "metadata": {},
   "outputs": [],
   "source": [
    "from surprise import Reader, Dataset, SVD\n",
    "from surprise.model_selection import cross_validate\n",
    "reader = Reader()"
   ]
  },
  {
   "cell_type": "code",
   "execution_count": 47,
   "metadata": {},
   "outputs": [],
   "source": [
    "data = Dataset.load_from_df(df[['id_usuario', 'id_filme', 'avaliacao']], reader)"
   ]
  },
  {
   "cell_type": "code",
   "execution_count": 72,
   "metadata": {},
   "outputs": [
    {
     "data": {
      "text/plain": [
       "{'test_rmse': array([0.93131148, 0.93840144, 0.9323115 , 0.93601992, 0.9400645 ]),\n",
       " 'test_mae': array([0.73468909, 0.73688778, 0.73607347, 0.73875436, 0.74109193]),\n",
       " 'test_fcp': array([0.70217071, 0.69476912, 0.69731536, 0.69113566, 0.70384833]),\n",
       " 'fit_time': (3.8585572242736816,\n",
       "  4.056389808654785,\n",
       "  4.121734380722046,\n",
       "  4.6967079639434814,\n",
       "  4.690768718719482),\n",
       " 'test_time': (0.10674524307250977,\n",
       "  0.10671186447143555,\n",
       "  0.10970878601074219,\n",
       "  0.13164043426513672,\n",
       "  0.132645845413208)}"
      ]
     },
     "execution_count": 72,
     "metadata": {},
     "output_type": "execute_result"
    }
   ],
   "source": [
    "svd = SVD()\n",
    "cross_validate(svd, data, measures=['RMSE', 'MAE', 'FCP'], cv=5)"
   ]
  },
  {
   "cell_type": "code",
   "execution_count": 73,
   "metadata": {},
   "outputs": [
    {
     "data": {
      "text/plain": [
       "<surprise.prediction_algorithms.matrix_factorization.SVD at 0x20f1afa3880>"
      ]
     },
     "execution_count": 73,
     "metadata": {},
     "output_type": "execute_result"
    }
   ],
   "source": [
    "trainset = data.build_full_trainset()\n",
    "svd.fit(trainset)"
   ]
  },
  {
   "cell_type": "markdown",
   "metadata": {},
   "source": [
    "Exemplo de alguns filmes visto pelo usuario 222"
   ]
  },
  {
   "cell_type": "code",
   "execution_count": 88,
   "metadata": {},
   "outputs": [
    {
     "data": {
      "text/html": [
       "<div>\n",
       "<style scoped>\n",
       "    .dataframe tbody tr th:only-of-type {\n",
       "        vertical-align: middle;\n",
       "    }\n",
       "\n",
       "    .dataframe tbody tr th {\n",
       "        vertical-align: top;\n",
       "    }\n",
       "\n",
       "    .dataframe thead th {\n",
       "        text-align: right;\n",
       "    }\n",
       "</style>\n",
       "<table border=\"1\" class=\"dataframe\">\n",
       "  <thead>\n",
       "    <tr style=\"text-align: right;\">\n",
       "      <th></th>\n",
       "      <th>id_usuario</th>\n",
       "      <th>id_filme</th>\n",
       "      <th>avaliacao</th>\n",
       "      <th>data_avaliacao</th>\n",
       "      <th>idade</th>\n",
       "      <th>sexo</th>\n",
       "      <th>profissao</th>\n",
       "      <th>estado_usa</th>\n",
       "    </tr>\n",
       "  </thead>\n",
       "  <tbody>\n",
       "    <tr>\n",
       "      <th>85</th>\n",
       "      <td>222</td>\n",
       "      <td>366</td>\n",
       "      <td>4</td>\n",
       "      <td>1997-10-30</td>\n",
       "      <td>29</td>\n",
       "      <td>M</td>\n",
       "      <td>programmer</td>\n",
       "      <td>NC</td>\n",
       "    </tr>\n",
       "    <tr>\n",
       "      <th>127</th>\n",
       "      <td>222</td>\n",
       "      <td>750</td>\n",
       "      <td>5</td>\n",
       "      <td>1998-01-03</td>\n",
       "      <td>29</td>\n",
       "      <td>M</td>\n",
       "      <td>programmer</td>\n",
       "      <td>NC</td>\n",
       "    </tr>\n",
       "    <tr>\n",
       "      <th>188</th>\n",
       "      <td>222</td>\n",
       "      <td>755</td>\n",
       "      <td>4</td>\n",
       "      <td>1997-10-30</td>\n",
       "      <td>29</td>\n",
       "      <td>M</td>\n",
       "      <td>programmer</td>\n",
       "      <td>NC</td>\n",
       "    </tr>\n",
       "    <tr>\n",
       "      <th>298</th>\n",
       "      <td>222</td>\n",
       "      <td>118</td>\n",
       "      <td>4</td>\n",
       "      <td>1997-10-22</td>\n",
       "      <td>29</td>\n",
       "      <td>M</td>\n",
       "      <td>programmer</td>\n",
       "      <td>NC</td>\n",
       "    </tr>\n",
       "    <tr>\n",
       "      <th>320</th>\n",
       "      <td>222</td>\n",
       "      <td>77</td>\n",
       "      <td>4</td>\n",
       "      <td>1997-10-30</td>\n",
       "      <td>29</td>\n",
       "      <td>M</td>\n",
       "      <td>programmer</td>\n",
       "      <td>NC</td>\n",
       "    </tr>\n",
       "    <tr>\n",
       "      <th>...</th>\n",
       "      <td>...</td>\n",
       "      <td>...</td>\n",
       "      <td>...</td>\n",
       "      <td>...</td>\n",
       "      <td>...</td>\n",
       "      <td>...</td>\n",
       "      <td>...</td>\n",
       "      <td>...</td>\n",
       "    </tr>\n",
       "    <tr>\n",
       "      <th>94842</th>\n",
       "      <td>222</td>\n",
       "      <td>410</td>\n",
       "      <td>2</td>\n",
       "      <td>1997-10-22</td>\n",
       "      <td>29</td>\n",
       "      <td>M</td>\n",
       "      <td>programmer</td>\n",
       "      <td>NC</td>\n",
       "    </tr>\n",
       "    <tr>\n",
       "      <th>95809</th>\n",
       "      <td>222</td>\n",
       "      <td>405</td>\n",
       "      <td>3</td>\n",
       "      <td>1997-10-22</td>\n",
       "      <td>29</td>\n",
       "      <td>M</td>\n",
       "      <td>programmer</td>\n",
       "      <td>NC</td>\n",
       "    </tr>\n",
       "    <tr>\n",
       "      <th>95862</th>\n",
       "      <td>222</td>\n",
       "      <td>762</td>\n",
       "      <td>3</td>\n",
       "      <td>1997-10-22</td>\n",
       "      <td>29</td>\n",
       "      <td>M</td>\n",
       "      <td>programmer</td>\n",
       "      <td>NC</td>\n",
       "    </tr>\n",
       "    <tr>\n",
       "      <th>98000</th>\n",
       "      <td>222</td>\n",
       "      <td>241</td>\n",
       "      <td>3</td>\n",
       "      <td>1997-10-30</td>\n",
       "      <td>29</td>\n",
       "      <td>M</td>\n",
       "      <td>programmer</td>\n",
       "      <td>NC</td>\n",
       "    </tr>\n",
       "    <tr>\n",
       "      <th>98160</th>\n",
       "      <td>222</td>\n",
       "      <td>133</td>\n",
       "      <td>1</td>\n",
       "      <td>1997-10-30</td>\n",
       "      <td>29</td>\n",
       "      <td>M</td>\n",
       "      <td>programmer</td>\n",
       "      <td>NC</td>\n",
       "    </tr>\n",
       "  </tbody>\n",
       "</table>\n",
       "<p>387 rows × 8 columns</p>\n",
       "</div>"
      ],
      "text/plain": [
       "      id_usuario id_filme  avaliacao data_avaliacao  idade sexo   profissao  \\\n",
       "85           222      366          4     1997-10-30     29    M  programmer   \n",
       "127          222      750          5     1998-01-03     29    M  programmer   \n",
       "188          222      755          4     1997-10-30     29    M  programmer   \n",
       "298          222      118          4     1997-10-22     29    M  programmer   \n",
       "320          222       77          4     1997-10-30     29    M  programmer   \n",
       "...          ...      ...        ...            ...    ...  ...         ...   \n",
       "94842        222      410          2     1997-10-22     29    M  programmer   \n",
       "95809        222      405          3     1997-10-22     29    M  programmer   \n",
       "95862        222      762          3     1997-10-22     29    M  programmer   \n",
       "98000        222      241          3     1997-10-30     29    M  programmer   \n",
       "98160        222      133          1     1997-10-30     29    M  programmer   \n",
       "\n",
       "      estado_usa  \n",
       "85            NC  \n",
       "127           NC  \n",
       "188           NC  \n",
       "298           NC  \n",
       "320           NC  \n",
       "...          ...  \n",
       "94842         NC  \n",
       "95809         NC  \n",
       "95862         NC  \n",
       "98000         NC  \n",
       "98160         NC  \n",
       "\n",
       "[387 rows x 8 columns]"
      ]
     },
     "execution_count": 88,
     "metadata": {},
     "output_type": "execute_result"
    }
   ],
   "source": [
    "df[df['id_usuario'] == '222']"
   ]
  },
  {
   "cell_type": "markdown",
   "metadata": {},
   "source": [
    "Um filme que ele nao gostou muito"
   ]
  },
  {
   "cell_type": "code",
   "execution_count": 93,
   "metadata": {},
   "outputs": [
    {
     "data": {
      "text/plain": [
       "Prediction(uid='222', iid='133', r_ui=3, est=2.6294916188611546, details={'was_impossible': False})"
      ]
     },
     "execution_count": 93,
     "metadata": {},
     "output_type": "execute_result"
    }
   ],
   "source": [
    "svd.predict('222', '133', 3)"
   ]
  },
  {
   "cell_type": "markdown",
   "metadata": {},
   "source": [
    "Um filme que ele adorou"
   ]
  },
  {
   "cell_type": "code",
   "execution_count": 90,
   "metadata": {},
   "outputs": [
    {
     "data": {
      "text/plain": [
       "Prediction(uid='222', iid='750', r_ui=3, est=3.9942470050964323, details={'was_impossible': False})"
      ]
     },
     "execution_count": 90,
     "metadata": {},
     "output_type": "execute_result"
    }
   ],
   "source": [
    "svd.predict('222', '750', 3)"
   ]
  },
  {
   "cell_type": "markdown",
   "metadata": {},
   "source": [
    "    "
   ]
  },
  {
   "cell_type": "markdown",
   "metadata": {},
   "source": [
    "      "
   ]
  },
  {
   "cell_type": "markdown",
   "metadata": {},
   "source": [
    "   "
   ]
  },
  {
   "cell_type": "markdown",
   "metadata": {},
   "source": [
    "    "
   ]
  },
  {
   "cell_type": "markdown",
   "metadata": {},
   "source": [
    "      "
   ]
  }
 ],
 "metadata": {
  "kernelspec": {
   "display_name": "Python 3",
   "language": "python",
   "name": "python3"
  },
  "language_info": {
   "codemirror_mode": {
    "name": "ipython",
    "version": 3
   },
   "file_extension": ".py",
   "mimetype": "text/x-python",
   "name": "python",
   "nbconvert_exporter": "python",
   "pygments_lexer": "ipython3",
   "version": "3.8.5"
  }
 },
 "nbformat": 4,
 "nbformat_minor": 4
}
